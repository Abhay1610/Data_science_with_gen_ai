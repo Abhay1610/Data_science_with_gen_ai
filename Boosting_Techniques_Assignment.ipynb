{
  "nbformat": 4,
  "nbformat_minor": 0,
  "metadata": {
    "colab": {
      "provenance": []
    },
    "kernelspec": {
      "name": "python3",
      "display_name": "Python 3"
    },
    "language_info": {
      "name": "python"
    }
  },
  "cells": [
    {
      "cell_type": "markdown",
      "source": [
        "#Boosting Techniques | **Assignment**"
      ],
      "metadata": {
        "id": "jzf9yodu8vDh"
      }
    },
    {
      "cell_type": "markdown",
      "source": [
        "## Question 1: What is Ensemble Learning in machine learning? Explain the key idea behind it\n"
      ],
      "metadata": {
        "id": "F9U9ahX6tNfO"
      }
    },
    {
      "cell_type": "markdown",
      "source": [
        "**Answer**: Boosting is an ensemble learning technique that combines many weak learners (models that perform just slightly better than random guessing, like shallow decision trees) into one strong learner.\n",
        "\n",
        "* It works sequentially: each model is trained to fix the mistakes of the previous one.\n",
        "\n",
        "* Misclassified samples are given higher weights, so later learners focus more on difficult cases.\n",
        "\n",
        "* The final model combines all learners using weighted voting or averaging.\n",
        "\n",
        "Why it helps: Boosting gradually reduces bias and improves accuracy by making weak models complement each other. However, if not regularized, it may sometimes cause overfitting.\n",
        "\n",
        "Examples: AdaBoost, Gradient Boosting, XGBoost, LightGBM, CatBoost."
      ],
      "metadata": {
        "id": "lzPcXpLStNiA"
      }
    },
    {
      "cell_type": "markdown",
      "source": [
        "## Question 2: What is the difference between AdaBoost and Gradient Boosting in terms of how models are trained?\n",
        "\n"
      ],
      "metadata": {
        "id": "q_OW9hK_tNlG"
      }
    },
    {
      "cell_type": "markdown",
      "source": [
        "**Answer**: Difference Between AdaBoost and Gradient Boosting\n",
        "\n",
        "1. AdaBoost (Adaptive Boosting):\n",
        "\n",
        "   * Trains learners sequentially.\n",
        "   * After each model, it reweights the training samples → misclassified samples get higher weights.\n",
        "   * The next learner focuses more on correcting those hard cases.\n",
        "   * Emphasizes reweighting data points.\n",
        "\n",
        "2. Gradient Boosting:\n",
        "\n",
        "   * Also trains learners sequentially.\n",
        "   * Instead of reweighting samples, it fits each new learner to the residual errors (gradients of loss function) of the previous model.\n",
        "   * Uses gradient descent to minimize the overall loss.\n",
        "   * Emphasizes optimizing a loss function."
      ],
      "metadata": {
        "id": "R208rNH1tNn7"
      }
    },
    {
      "cell_type": "markdown",
      "source": [
        "## Question 3: How does regularization help in XGBoost?\n"
      ],
      "metadata": {
        "id": "jsFCcmN8tNqE"
      }
    },
    {
      "cell_type": "markdown",
      "source": [
        "**Answer**:\n",
        "*Regularization in XGBoost*\n",
        "\n",
        "* XGBoost includes regularization terms in its objective function (both L1 and L2 penalties) to control model complexity.\n",
        "\n",
        "* L1 (Lasso penalty): Encourages sparsity, helps in feature selection.\n",
        "\n",
        "* L2 (Ridge penalty): Reduces large weights, prevents overfitting.\n",
        "\n",
        "* By penalizing complex trees, XGBoost improves generalization, reduces overfitting, and makes the model more robust."
      ],
      "metadata": {
        "id": "f92gXhQTtNsm"
      }
    },
    {
      "cell_type": "markdown",
      "source": [
        "## Question 4: Why is CatBoost considered efficient for handling categorical data?\n",
        "\n"
      ],
      "metadata": {
        "id": "B-N4qvaXtNvc"
      }
    },
    {
      "cell_type": "markdown",
      "source": [
        "**Answer**: CatBoost is considered highly efficient for handling categorical features because:\n",
        "\n",
        "1. Built-in Encoding:\n",
        "\n",
        "   * Unlike other algorithms, CatBoost doesn’t need one-hot encoding or label encoding.\n",
        "\n",
        "   * It uses “ordered target statistics” (also called mean encoding with permutation) to convert categories into numerical values without causing target leakage.\n",
        "\n",
        "2. Handles High Cardinality:\n",
        "\n",
        "   * Works well even with categorical features having many unique values.\n",
        "\n",
        "3. Efficiency & Accuracy:\n",
        "\n",
        "   * Reduces preprocessing time.\n",
        "\n",
        "   * Provides better accuracy by capturing categorical patterns naturally."
      ],
      "metadata": {
        "id": "S7W54S87tNyH"
      }
    },
    {
      "cell_type": "markdown",
      "source": [
        "## Question 5: What are some real-world applications where boosting techniques are preferred over bagging methods?\n",
        "\n"
      ],
      "metadata": {
        "id": "6gKKZfkjtN0y"
      }
    },
    {
      "cell_type": "markdown",
      "source": [
        "**Answer**:\n",
        "Boosting techniques (AdaBoost, Gradient Boosting, XGBoost, LightGBM, CatBoost) are often preferred when high accuracy and bias reduction are critical. Some applications are:\n",
        "\n",
        "1. Finance:\n",
        "\n",
        "   * Credit scoring, fraud detection, loan default prediction.\n",
        "\n",
        "   * Boosting handles complex decision boundaries better.\n",
        "\n",
        "2. Healthcare:\n",
        "\n",
        "   * Disease prediction, medical image classification.\n",
        "\n",
        "   * Captures subtle patterns in data.\n",
        "\n",
        "3. E-commerce & Marketing:\n",
        "\n",
        "   * Customer churn prediction, product recommendation.\n",
        "\n",
        "   * Learns from imbalanced datasets effectively.\n",
        "\n",
        "4. Cybersecurity:\n",
        "\n",
        "   * Spam detection, intrusion detection.\n",
        "  \n",
        "   * Boosting improves detection of rare but critical cases."
      ],
      "metadata": {
        "id": "5-UBhZAltN30"
      }
    },
    {
      "cell_type": "markdown",
      "source": [
        "##Datasets:\n",
        "##● Use sklearn.datasets.load_breast_cancer() for classification tasks.\n",
        "##● Use sklearn.datasets.fetch_california_housing() for regression tasks."
      ],
      "metadata": {
        "id": "pH5sc1vqVj7X"
      }
    },
    {
      "cell_type": "markdown",
      "source": [
        "## Question 6: Write a Python program to:\n",
        "##● Train an AdaBoost Classifier on the Breast Cancer dataset\n",
        "##● Print the model accuracy"
      ],
      "metadata": {
        "id": "hoELL6e6tN6h"
      }
    },
    {
      "cell_type": "code",
      "source": [
        "# Import required libraries\n",
        "from sklearn.datasets import load_breast_cancer\n",
        "from sklearn.model_selection import train_test_split\n",
        "from sklearn.ensemble import AdaBoostClassifier\n",
        "from sklearn.metrics import accuracy_score\n",
        "\n",
        "# Load dataset\n",
        "data = load_breast_cancer()\n",
        "X, y = data.data, data.target\n",
        "\n",
        "# Split into train and test sets\n",
        "X_train, X_test, y_train, y_test = train_test_split(X, y, test_size=0.2, random_state=42)\n",
        "\n",
        "# Train AdaBoost Classifier\n",
        "model = AdaBoostClassifier(n_estimators=100, random_state=42)\n",
        "model.fit(X_train, y_train)\n",
        "\n",
        "# Predict and calculate accuracy\n",
        "y_pred = model.predict(X_test)\n",
        "accuracy = accuracy_score(y_test, y_pred)\n",
        "\n",
        "print(\"AdaBoost Classifier Accuracy:\", accuracy)"
      ],
      "metadata": {
        "colab": {
          "base_uri": "https://localhost:8080/"
        },
        "id": "tKnwKJZgt61Q",
        "outputId": "ba70f261-2441-4e80-c17d-7a85a21bc51d"
      },
      "execution_count": 1,
      "outputs": [
        {
          "output_type": "stream",
          "name": "stdout",
          "text": [
            "AdaBoost Classifier Accuracy: 0.9736842105263158\n"
          ]
        }
      ]
    },
    {
      "cell_type": "markdown",
      "source": [
        "## Question 7: Write a Python program to:\n",
        "##● Train a Gradient Boosting Regressor on the California Housing dataset\n",
        "##● Evaluate performance using R-squared score\n"
      ],
      "metadata": {
        "id": "6Zjjirz6tN88"
      }
    },
    {
      "cell_type": "code",
      "source": [
        "# Import required libraries\n",
        "from sklearn.datasets import fetch_california_housing\n",
        "from sklearn.model_selection import train_test_split\n",
        "from sklearn.ensemble import GradientBoostingRegressor\n",
        "from sklearn.metrics import r2_score\n",
        "\n",
        "# Load dataset\n",
        "data = fetch_california_housing()\n",
        "X, y = data.data, data.target\n",
        "\n",
        "# Split into train and test sets\n",
        "X_train, X_test, y_train, y_test = train_test_split(X, y, test_size=0.2, random_state=42)\n",
        "\n",
        "# Train Gradient Boosting Regressor\n",
        "model = GradientBoostingRegressor(n_estimators=200, learning_rate=0.1, max_depth=3, random_state=42)\n",
        "model.fit(X_train, y_train)\n",
        "\n",
        "# Predict on test set\n",
        "y_pred = model.predict(X_test)\n",
        "\n",
        "# Evaluate with R-squared score\n",
        "r2 = r2_score(y_test, y_pred)\n",
        "print(\"Gradient Boosting Regressor R-squared Score:\", r2)"
      ],
      "metadata": {
        "colab": {
          "base_uri": "https://localhost:8080/"
        },
        "id": "FowRlldBv0bq",
        "outputId": "696ba85b-735f-4dbe-dc9f-e78811112fb2"
      },
      "execution_count": 2,
      "outputs": [
        {
          "output_type": "stream",
          "name": "stdout",
          "text": [
            "Gradient Boosting Regressor R-squared Score: 0.8004451261281281\n"
          ]
        }
      ]
    },
    {
      "cell_type": "markdown",
      "source": [
        "## Question 8: Write a Python program to:\n",
        "##● Train an XGBoost Classifier on the Breast Cancer dataset\n",
        "##● Tune the learning rate using GridSearchCV\n",
        "##● Print the best parameters and accuracy\n"
      ],
      "metadata": {
        "id": "OUWjB4EitN_2"
      }
    },
    {
      "cell_type": "code",
      "source": [
        "# Import required libraries\n",
        "from sklearn.datasets import load_breast_cancer\n",
        "from sklearn.model_selection import train_test_split, GridSearchCV\n",
        "from sklearn.metrics import accuracy_score\n",
        "from xgboost import XGBClassifier\n",
        "\n",
        "# Load dataset\n",
        "data = load_breast_cancer()\n",
        "X, y = data.data, data.target\n",
        "\n",
        "# Split into train and test sets\n",
        "X_train, X_test, y_train, y_test = train_test_split(\n",
        "    X, y, test_size=0.2, random_state=42\n",
        ")\n",
        "\n",
        "# Define XGBoost Classifier\n",
        "xgb_model = XGBClassifier(use_label_encoder=False, eval_metric='logloss', random_state=42)\n",
        "\n",
        "# Define parameter grid for learning_rate\n",
        "param_grid = {\n",
        "    'learning_rate': [0.01, 0.05, 0.1, 0.2, 0.3]\n",
        "}\n",
        "\n",
        "# GridSearchCV\n",
        "grid_search = GridSearchCV(\n",
        "    estimator=xgb_model,\n",
        "    param_grid=param_grid,\n",
        "    cv=5,\n",
        "    scoring='accuracy',\n",
        "    n_jobs=-1\n",
        ")\n",
        "\n",
        "# Train model\n",
        "grid_search.fit(X_train, y_train)\n",
        "\n",
        "# Best parameters\n",
        "print(\"Best Parameters:\", grid_search.best_params_)\n",
        "\n",
        "# Evaluate on test set\n",
        "best_model = grid_search.best_estimator_\n",
        "y_pred = best_model.predict(X_test)\n",
        "accuracy = accuracy_score(y_test, y_pred)\n",
        "\n",
        "print(\"XGBoost Classifier Accuracy:\", accuracy)"
      ],
      "metadata": {
        "colab": {
          "base_uri": "https://localhost:8080/"
        },
        "id": "R81K9cOEw0cL",
        "outputId": "7b94387a-d234-4cba-dc1f-544952e8e814"
      },
      "execution_count": 3,
      "outputs": [
        {
          "output_type": "stream",
          "name": "stdout",
          "text": [
            "Best Parameters: {'learning_rate': 0.2}\n",
            "XGBoost Classifier Accuracy: 0.956140350877193\n"
          ]
        },
        {
          "output_type": "stream",
          "name": "stderr",
          "text": [
            "/usr/local/lib/python3.12/dist-packages/xgboost/training.py:183: UserWarning: [17:35:58] WARNING: /workspace/src/learner.cc:738: \n",
            "Parameters: { \"use_label_encoder\" } are not used.\n",
            "\n",
            "  bst.update(dtrain, iteration=i, fobj=obj)\n"
          ]
        }
      ]
    },
    {
      "cell_type": "markdown",
      "source": [
        "## Question 9: Write a Python program to:\n",
        "##● Train a CatBoost Classifier\n",
        "##● Plot the confusion matrix using seaborn\n"
      ],
      "metadata": {
        "id": "KYCwv5jCtOCn"
      }
    },
    {
      "cell_type": "code",
      "source": [
        "!pip install catboost"
      ],
      "metadata": {
        "colab": {
          "base_uri": "https://localhost:8080/"
        },
        "collapsed": true,
        "id": "uvQt7BXoWnvd",
        "outputId": "157b80bf-806c-444c-f7cd-b10ac46b8115"
      },
      "execution_count": 5,
      "outputs": [
        {
          "output_type": "stream",
          "name": "stdout",
          "text": [
            "Collecting catboost\n",
            "  Downloading catboost-1.2.8-cp312-cp312-manylinux2014_x86_64.whl.metadata (1.2 kB)\n",
            "Requirement already satisfied: graphviz in /usr/local/lib/python3.12/dist-packages (from catboost) (0.21)\n",
            "Requirement already satisfied: matplotlib in /usr/local/lib/python3.12/dist-packages (from catboost) (3.10.0)\n",
            "Requirement already satisfied: numpy<3.0,>=1.16.0 in /usr/local/lib/python3.12/dist-packages (from catboost) (2.0.2)\n",
            "Requirement already satisfied: pandas>=0.24 in /usr/local/lib/python3.12/dist-packages (from catboost) (2.2.2)\n",
            "Requirement already satisfied: scipy in /usr/local/lib/python3.12/dist-packages (from catboost) (1.16.1)\n",
            "Requirement already satisfied: plotly in /usr/local/lib/python3.12/dist-packages (from catboost) (5.24.1)\n",
            "Requirement already satisfied: six in /usr/local/lib/python3.12/dist-packages (from catboost) (1.17.0)\n",
            "Requirement already satisfied: python-dateutil>=2.8.2 in /usr/local/lib/python3.12/dist-packages (from pandas>=0.24->catboost) (2.9.0.post0)\n",
            "Requirement already satisfied: pytz>=2020.1 in /usr/local/lib/python3.12/dist-packages (from pandas>=0.24->catboost) (2025.2)\n",
            "Requirement already satisfied: tzdata>=2022.7 in /usr/local/lib/python3.12/dist-packages (from pandas>=0.24->catboost) (2025.2)\n",
            "Requirement already satisfied: contourpy>=1.0.1 in /usr/local/lib/python3.12/dist-packages (from matplotlib->catboost) (1.3.3)\n",
            "Requirement already satisfied: cycler>=0.10 in /usr/local/lib/python3.12/dist-packages (from matplotlib->catboost) (0.12.1)\n",
            "Requirement already satisfied: fonttools>=4.22.0 in /usr/local/lib/python3.12/dist-packages (from matplotlib->catboost) (4.59.1)\n",
            "Requirement already satisfied: kiwisolver>=1.3.1 in /usr/local/lib/python3.12/dist-packages (from matplotlib->catboost) (1.4.9)\n",
            "Requirement already satisfied: packaging>=20.0 in /usr/local/lib/python3.12/dist-packages (from matplotlib->catboost) (25.0)\n",
            "Requirement already satisfied: pillow>=8 in /usr/local/lib/python3.12/dist-packages (from matplotlib->catboost) (11.3.0)\n",
            "Requirement already satisfied: pyparsing>=2.3.1 in /usr/local/lib/python3.12/dist-packages (from matplotlib->catboost) (3.2.3)\n",
            "Requirement already satisfied: tenacity>=6.2.0 in /usr/local/lib/python3.12/dist-packages (from plotly->catboost) (8.5.0)\n",
            "Downloading catboost-1.2.8-cp312-cp312-manylinux2014_x86_64.whl (99.2 MB)\n",
            "\u001b[2K   \u001b[90m━━━━━━━━━━━━━━━━━━━━━━━━━━━━━━━━━━━━━━━━\u001b[0m \u001b[32m99.2/99.2 MB\u001b[0m \u001b[31m10.7 MB/s\u001b[0m eta \u001b[36m0:00:00\u001b[0m\n",
            "\u001b[?25hInstalling collected packages: catboost\n",
            "Successfully installed catboost-1.2.8\n"
          ]
        }
      ]
    },
    {
      "cell_type": "code",
      "source": [
        "# Import required libraries\n",
        "from sklearn.datasets import load_breast_cancer\n",
        "from sklearn.model_selection import train_test_split\n",
        "from sklearn.metrics import confusion_matrix, accuracy_score\n",
        "from catboost import CatBoostClassifier\n",
        "import seaborn as sns\n",
        "import matplotlib.pyplot as plt\n",
        "\n",
        "# Load dataset\n",
        "data = load_breast_cancer()\n",
        "X, y = data.data, data.target\n",
        "\n",
        "# Split into train and test sets\n",
        "X_train, X_test, y_train, y_test = train_test_split(\n",
        "    X, y, test_size=0.2, random_state=42\n",
        ")\n",
        "\n",
        "# Train CatBoost Classifier\n",
        "model = CatBoostClassifier(iterations=200, learning_rate=0.1, depth=6, verbose=0, random_state=42)\n",
        "model.fit(X_train, y_train)\n",
        "\n",
        "# Predictions\n",
        "y_pred = model.predict(X_test)\n",
        "\n",
        "# Accuracy\n",
        "print(\"CatBoost Classifier Accuracy:\", accuracy_score(y_test, y_pred))\n",
        "\n",
        "# Confusion Matrix\n",
        "cm = confusion_matrix(y_test, y_pred)\n",
        "\n",
        "# Plot confusion matrix\n",
        "plt.figure(figsize=(6, 4))\n",
        "sns.heatmap(cm, annot=True, fmt=\"d\", cmap=\"Blues\", xticklabels=data.target_names, yticklabels=data.target_names)\n",
        "plt.xlabel(\"Predicted\")\n",
        "plt.ylabel(\"Actual\")\n",
        "plt.title(\"Confusion Matrix - CatBoost Classifier\")\n",
        "plt.show()"
      ],
      "metadata": {
        "colab": {
          "base_uri": "https://localhost:8080/",
          "height": 427
        },
        "id": "ZJ6HcnRxyMOl",
        "outputId": "7d9e8275-7e65-4a38-b67d-bd8a0ffd2344"
      },
      "execution_count": 6,
      "outputs": [
        {
          "output_type": "stream",
          "name": "stdout",
          "text": [
            "CatBoost Classifier Accuracy: 0.9649122807017544\n"
          ]
        },
        {
          "output_type": "display_data",
          "data": {
            "text/plain": [
              "<Figure size 600x400 with 2 Axes>"
            ],
            "image/png": "[encoded data removed]"
          },
          "metadata": {}
        }
      ]
    },
    {
      "cell_type": "markdown",
      "source": [
        "### Question 10: You're working for a FinTech company trying to predict loan default using customer demographics and transaction behavior. The dataset is imbalanced, contains missing values, and has both numeric and categorical features. Describe your step-by-step data science pipeline using boosting techniques:\n",
        "###● Data preprocessing & handling missing/categorical values\n",
        "###● Choice between AdaBoost, XGBoost, or CatBoost\n",
        "###● Hyperparameter tuning strategy\n",
        "###● Evaluation metrics you'd choose and why\n",
        "###● How the business would benefit from your model\n",
        "\n",
        "####(Include your Python code and output in the code box below.)\n"
      ],
      "metadata": {
        "id": "_O7a_iAUtOFT"
      }
    },
    {
      "cell_type": "markdown",
      "source": [
        "**Answer:** This is a classification problem (predicting whether a customer will default = Yes/No).\n",
        "\n",
        "1) Data preprocessing\n",
        "\n",
        "   * Use Stratified K-Fold since data is imbalanced.\n",
        "\n",
        "   * Missing values: CatBoost/XGBoost handle them; otherwise impute.\n",
        "\n",
        "   * Categorical features: CatBoost encodes internally, while AdaBoost/XGBoost require one-hot/target encoding.\n",
        "\n",
        "2) Choice of boosting method\n",
        "\n",
        "   * AdaBoost: simple, less robust with noise/imbalance.\n",
        "\n",
        "   * XGBoost: widely used, supports imbalance (scale_pos_weight), strong regularization.\n",
        "\n",
        "   * CatBoost: best choice here (mixed features + missing values).\n",
        "\n",
        "3) Hyperparameter tuning\n",
        "\n",
        "   * Use Grid/Random Search with cross-validation.\n",
        "\n",
        "   * Key params: n_estimators, max_depth, learning_rate, regularization terms.\n",
        "\n",
        "4) Evaluation metrics\n",
        "\n",
        "   * Use ROC-AUC and PR-AUC (good for imbalance).\n",
        "\n",
        "   * Track Recall/F1 to reduce false negatives.\n",
        "\n",
        "5) Preventing overfitting\n",
        "\n",
        "   * Tune max_depth, learning_rate, add regularization, and use early stopping.\n",
        "\n",
        "6) Business impact\n",
        "\n",
        "   * Boosting helps identify risky borrowers, reduces defaults, improves loan pricing & approval decisions, and increases trust in credit risk systems."
      ],
      "metadata": {
        "id": "bSTkly_0tOIt"
      }
    },
    {
      "cell_type": "code",
      "source": [
        "# Loan Default Prediction using Boosting\n",
        "# Classification Problem\n",
        "\n",
        "import pandas as pd\n",
        "from sklearn.datasets import make_classification\n",
        "from sklearn.model_selection import train_test_split, GridSearchCV\n",
        "from sklearn.metrics import roc_auc_score, classification_report\n",
        "from catboost import CatBoostClassifier\n",
        "\n",
        "# 1) Create a synthetic dataset (1000 samples, 20 features)\n",
        "X, y = make_classification(\n",
        "    n_samples=1000, n_features=20, n_informative=10, n_redundant=5,\n",
        "    weights=[0.7, 0.3], random_state=42\n",
        ")\n",
        "\n",
        "# 2) Train-Test Split\n",
        "X_train, X_test, y_train, y_test = train_test_split(\n",
        "    X, y, test_size=0.2, stratify=y, random_state=42\n",
        ")\n",
        "\n",
        "# 3) Initialize CatBoost\n",
        "model = CatBoostClassifier(verbose=0, random_state=42)\n",
        "\n",
        "# 4) Hyperparameter tuning (keep it simple)\n",
        "params = {\n",
        "    \"depth\": [4, 6],\n",
        "    \"learning_rate\": [0.05, 0.1],\n",
        "    \"iterations\": [200, 400]\n",
        "}\n",
        "grid = GridSearchCV(model, param_grid=params, scoring=\"roc_auc\", cv=3)\n",
        "grid.fit(X_train, y_train)\n",
        "\n",
        "# 5) Best model evaluation\n",
        "best_model = grid.best_estimator_\n",
        "y_pred = best_model.predict(X_test)\n",
        "y_proba = best_model.predict_proba(X_test)[:, 1]\n",
        "\n",
        "print(\"Best Parameters:\", grid.best_params_)\n",
        "print(\"ROC-AUC Score:\", roc_auc_score(y_test, y_proba))\n",
        "print(\"Classification Report:\\n\", classification_report(y_test, y_pred))"
      ],
      "metadata": {
        "colab": {
          "base_uri": "https://localhost:8080/"
        },
        "id": "oNWOZqbXaWHI",
        "outputId": "0eb613a0-647d-40f2-a168-b4f539bb794c"
      },
      "execution_count": 7,
      "outputs": [
        {
          "output_type": "stream",
          "name": "stdout",
          "text": [
            "Best Parameters: {'depth': 6, 'iterations': 400, 'learning_rate': 0.05}\n",
            "ROC-AUC Score: 0.9581318551716004\n",
            "Classification Report:\n",
            "               precision    recall  f1-score   support\n",
            "\n",
            "           0       0.92      1.00      0.96       139\n",
            "           1       1.00      0.80      0.89        61\n",
            "\n",
            "    accuracy                           0.94       200\n",
            "   macro avg       0.96      0.90      0.92       200\n",
            "weighted avg       0.94      0.94      0.94       200\n",
            "\n"
          ]
        }
      ]
    }
  ]
}