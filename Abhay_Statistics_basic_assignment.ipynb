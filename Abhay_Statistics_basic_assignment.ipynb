{
  "nbformat": 4,
  "nbformat_minor": 0,
  "metadata": {
    "colab": {
      "provenance": []
    },
    "kernelspec": {
      "name": "python3",
      "display_name": "Python 3"
    },
    "language_info": {
      "name": "python"
    }
  },
  "cells": [
    {
      "cell_type": "markdown",
      "source": [
        "#**STATISTICS BASIC ASSIGNMENT**\n",
        "##**Theory Question**"
      ],
      "metadata": {
        "id": "T-_EC3Zmqrm4"
      }
    },
    {
      "cell_type": "markdown",
      "source": [
        "###Q.1 What is statistics, and why is it important?\n",
        "**Answer:**  \n",
        "Statistics is a branch of mathematics that deals with the collection, analysis, interpretation and presentation of data in a more understandable and useful manner. It is used for various purposes in different fields but mainly it is associated with organizing and analyzing the data. It is also used to validate the hypothesis and predict the probability of the outcome.\n"
      ],
      "metadata": {
        "id": "DchBZHzDq9CB"
      }
    },
    {
      "cell_type": "markdown",
      "source": [
        "###Q.2 What are the two main types of statistics?\n",
        "**Answer:**  \n",
        "There are 2 types of statistics:\n",
        "*   Descriptive Statistics\n",
        "*   Inferential Statistics\n",
        "\n",
        "1. Descriptive statistics uses data that describes the population either through numerical calculated graphs or tables. It provides a graphical summary of data.\n",
        "2. Inferential Statistics makes inferences and predictions about the population based on a sample of data taken from the population. It generalizes a large dataset and applies probabilities to conclude.\n"
      ],
      "metadata": {
        "id": "I2W2h2RI5417"
      }
    },
    {
      "cell_type": "markdown",
      "source": [
        "###Q.3 What are descriptive statistics?\n",
        "**Answer:**  \n",
        "Descriptive Statistics\n",
        "\n",
        "It involves summarizing and organizing any piece of data so that we can easily understand and collect valuable information from that. There are some common techniques that we use for descriptive analysis of data that is a measure of central tendency(Mean, Median, and Mode) and the measure of variability (range, variance, and standard deviation). These techniques are used to find out insights from data."
      ],
      "metadata": {
        "id": "158roG5Nq8d3"
      }
    },
    {
      "cell_type": "markdown",
      "source": [
        "###Q.4 What is inferential statistics?\n",
        "**Answer:**  \n",
        "Inferential Statistics\n",
        "\n",
        "Inferential statistics is a part of statistics that is used to make prediction or inferences about the population based on sample, sample is randomly selection of small group of data from population where the population is the total amount of data or we can say that it is the data set available."
      ],
      "metadata": {
        "id": "oPBu9DITv0YD"
      }
    },
    {
      "cell_type": "markdown",
      "source": [
        "###Q.5 What is sampling in statistics?\n",
        "**Answer:**  \n",
        "In statistics, sampling is the process of selecting a subset (sample) of individuals or items from a larger group (population) in order to gather information and make inferences about the whole population."
      ],
      "metadata": {
        "id": "tPN2FQWdKJRU"
      }
    },
    {
      "cell_type": "markdown",
      "source": [
        "###Q.6 What are the different types of sampling methods?\n",
        "**Answer:**  \n",
        "The different types of sampling methods are:\n",
        "\n",
        "\n",
        "\n",
        "*   Probability Sampling: In probability sampling, every element of the population has an equal chance of being selected. Probability sampling gives us the best chance to create a sample that is truly representative of the population. Its types are -\n",
        "\n",
        "\n",
        "        1.   Simple Random Sampling\n",
        "        2.   Systematic Sampling\n",
        "        3.   Stratified Sampling\n",
        "        4.   Cluster Sampling\n",
        "\n",
        "\n",
        "\n",
        "*   Non-Probability Sampling: In non-probability sampling, all elements do not have an equal chance of being selected. Consequently, there is a significant risk of ending up with a non-representative sample which does not produce generalizable results. Some of its types are -\n",
        "\n",
        "\n",
        "        1.   Convenience Sampling\n",
        "        2.   Quota Sampling\n",
        "\n",
        "\n",
        "\n"
      ],
      "metadata": {
        "id": "bzX3hjyDKJRV"
      }
    },
    {
      "cell_type": "markdown",
      "source": [
        "###Q.7 What is the difference between random and non-random sampling?\n",
        "**Answer:**  \n",
        "Inferential Statistics\n",
        "\n",
        "Inferential statistics is a part of statistics that is used to make prediction or inferences about the population based on sample, sample is randomly selection of small group of data from population where the population is the total amount of data or we can say that it is the data set available."
      ],
      "metadata": {
        "id": "Y1yYVksVNWl6"
      }
    },
    {
      "cell_type": "markdown",
      "source": [
        "###Q.8 Define and give examples of qualitative and quantitative data?\n",
        "**Answer:**  \n",
        "\n",
        "\n",
        "1.   Qualitative Data\n",
        "\n",
        "The data collected on grounds of categorical variables are qualitative data. Qualitative data are more descriptive and conceptual in nature. It measures the data on the basis of the type of data, collection, or category.\n",
        "\n",
        "The data collection is based on what type of quality is given. Qualitative data is categorized into different groups based on characteristics. The data obtained from these kinds of analysis or research is used in theorization, perceptions, and developing hypothetical theories. These data are collected from texts, documents, transcripts, audio and video recordings, etc.\n",
        "\n",
        "Examples of qualitative data include:\n",
        "\n",
        "Textual responses from open-ended survey questions,\n",
        "Observational notes or fieldwork observations,\n",
        "Interview transcripts,\n",
        "Photographs or videos,\n",
        "Personal narratives or case studies, etc.\n",
        "\n",
        "\n",
        "2. Quantitative Data\n",
        "\n",
        "The data collected on the grounds of the numerical variables are quantitative data. Quantitative data are more objective and conclusive in nature. It measures the values and is expressed in numbers. The data collection is based on \"how much\" is the quantity. The data in quantitative analysis is expressed in numbers so it can be counted or measured. The data is extracted from experiments, surveys, market reports, matrices, etc.\n",
        "\n",
        "Some examples of quantitative data are:\n",
        "\n",
        "Age, Height, Weight, etc,\n",
        "Temperature,\n",
        "Income,\n",
        "Number of siblings,\n",
        "GPA,\n",
        "Test scores,\n",
        "Stock prices."
      ],
      "metadata": {
        "id": "OyeKqLN7NWl6"
      }
    },
    {
      "cell_type": "markdown",
      "source": [
        "###Q.9 What are the different types of data in statistics?\n",
        "**Answer:**  \n",
        "Qualitative Data (Categorical Data):\n",
        "\n",
        "As the name suggests Qualitative Data tells the features of the data in the statistics. Qualitative Data is also called Categorical Data and it categorizes the data into various categories. Qualitative data includes data such as the gender of people, their family names, and others in a sample of population data.\n",
        "\n",
        "Qualitative data is further categorized into two categories that include,\n",
        "\n",
        "* Nominal Data\n",
        "* Ordinal Data\n",
        "\n",
        "\n",
        "Quantitative Data (Numerical Data):\n",
        "\n",
        "Quantitative Data is the type of data that represents the numerical value of the data. They are also called Numerical Data. This data type is used to represent the height, weight, length, and other things of the data. Quantitative data is further classified into two categories that are,\n",
        "\n",
        "* Discrete Data\n",
        "* Continuous Data\n",
        "\n"
      ],
      "metadata": {
        "id": "4JcmPBEUZLO1"
      }
    },
    {
      "cell_type": "markdown",
      "source": [
        "![image.png](data:image/png;base64,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)"
      ],
      "metadata": {
        "id": "ct88ruWYaLZ9"
      }
    },
    {
      "cell_type": "markdown",
      "source": [
        "###Q.10 Explain nominal, ordinal, interval, and ratio levels of measurement.\n",
        "**Answer:**  \n",
        "* Nominal: Data can only be categorized. Think of labels or names, with no order. Example: Gender\n",
        "* Ordinal: Data can be categorized and ranked, but the difference between values isn't necessarily equal. Example: Ranking customer satisfaction\n",
        "* Interval: Data can be categorized, ranked, and has equal intervals between values, but no true zero. Example: Temperature in Celsius or Fahrenheit\n",
        "* Ratio: Data can be categorized, ranked, has equal intervals, and has a true zero. Example: Height or weight"
      ],
      "metadata": {
        "id": "1DHBMYB8ZLO2"
      }
    },
    {
      "cell_type": "markdown",
      "source": [
        "###Q.11 What is the measure of central tendency?\n",
        "**Answer:**  \n",
        "The measure of central tendency is the representation of various values of the given data set. Central tendencies in statistics are numerical values that represent the middle or typical value of a dataset. Also known as averages, they provide a summary of the entire data, making it easier to understand the overall pattern or behavior. These values are useful because they capture the essence of large datasets in a single, representative number.\n",
        "There are various measures of central tendency and the most important three measures of central tendency are:\n",
        "* Mean\n",
        "* Median\n",
        "* Mode"
      ],
      "metadata": {
        "id": "3ud9YPydZLO2"
      }
    },
    {
      "cell_type": "markdown",
      "source": [
        "###Q.12 Define mean, median, and mode.\n",
        "**Answer:**  \n",
        "* Mean: Mean is the sum of all the values in the data set divided by the number of values in the data set. It is also called the Arithmetic Average. The Mean is denoted as x̅ and is read as x bar.\n",
        "* Median: A Median is a middle value for sorted data. The sorting of the data can be done either in ascending order or descending order. A median divides the data into two halves.\n",
        "* Mode: A mode is the most frequent value or item of the data set. A data set can generally have one or more than one mode values.\n"
      ],
      "metadata": {
        "id": "EaCeUgPbdX7v"
      }
    },
    {
      "cell_type": "markdown",
      "source": [
        "###Q.13 What is the significance of the measure of central tendency?\n",
        "**Answer:**  \n",
        "Measures of central tendency are fundamental statistical tools used to represent the middle or typical value of a dataset. They provide a single value that summarizes the entire distribution of data, making it easier to understand and interpret. The most important three measures of central tendency are:\n",
        "* Mean\n",
        "* Median\n",
        "* Mode\n"
      ],
      "metadata": {
        "id": "Kudk_phYdX7w"
      }
    },
    {
      "cell_type": "markdown",
      "source": [
        "###Q.14 What is variance, and how is it calculated?\n",
        "**Answer:**  \n",
        "Variance is a number that tells us how spread out the values in a data set are from the mean (average). It shows whether the numbers are close to the average or far away from it.\n",
        "\n",
        "If the variance is small, it means most numbers are close to the mean. If the variance is large, it means the numbers are spread out more widely.\n",
        "A higher variance indicates greater variability, meaning the data is spread, while a lower variance suggests the data points are closer to the mean.\n",
        "\n",
        "The calculation of variance depends on whether you are working with an entire population or a sample taken from a population.\n",
        "\n",
        "Formula for Population Variance (σ²):\n",
        "\n",
        "σ² = Σ(xi - μ)² / N\n",
        "\n",
        "Formula for Sample Variance (s²):\n",
        "\n",
        "s² = Σ(xi - x̄)² / (n - 1)"
      ],
      "metadata": {
        "id": "gR2tnNTBdX7w"
      }
    },
    {
      "cell_type": "markdown",
      "source": [
        "###Q.15 What is standard deviation, and why is it important?\n",
        "**Answer:**  \n",
        "Standard deviation is a statistical measure that describes how much variation or dispersion there is in a set of data points. It helps us understand how spread out the values in a dataset are compared to the mean (average). A higher standard deviation means the data points are more spread out, while a lower standard deviation means they are closer to the mean."
      ],
      "metadata": {
        "id": "DgmsM3RodX7w"
      }
    },
    {
      "cell_type": "markdown",
      "source": [
        "###Q.16 Define and explain the term range in statistics.\n",
        "**Answer:**  \n",
        "Range in statistics is the difference between the highest and lowest values in a dataset. Calculating the range involves subtracting the minimum value from the maximum value.\n",
        "\n",
        "Range is a fundamental statistical concept that helps us understand the spread or variability of data within a dataset. Range in Statistics provides valuable insights into the extent of variation among the values in a dataset. Range quantifies the difference between the highest and lowest values in the dataset."
      ],
      "metadata": {
        "id": "lJggTIwDdX7w"
      }
    },
    {
      "cell_type": "markdown",
      "source": [
        "###Q.17 What is the difference between variance and standard deviation?\n",
        "**Answer:**  \n",
        "\n",
        "* Variance:\n",
        "  1. Definition: Average of the squared differences from the mean.\n",
        "  2. Measure: Measures the dispersion of a dataset.\n",
        "  3. Expressed in: Squared units.\n",
        "\n",
        "\n",
        "* Standard deviation:\n",
        " 1. Definition: Square root of the variance.\n",
        " 2. Measure: Measures the spread of data around the mean.\n",
        " 3. Expressed in: Same units as the data set.  "
      ],
      "metadata": {
        "id": "aC5yPVuoF32Q"
      }
    },
    {
      "cell_type": "markdown",
      "source": [
        "###Q.18 What is skewness in a dataset?\n",
        "**Answer:**  \n",
        "Skewness is a key statistical measure that shows how data is spread out in a dataset. It tells us if the data points are skewed to the left (negative skew) or to the right (positive skew) in relation to the mean. It is important because it helps us to understand the shape of the data distribution which is important for accurate data analysis and helps in identifying outliers and finding the best statistical methods to use for analysis."
      ],
      "metadata": {
        "id": "WV8L5sx8F32R"
      }
    },
    {
      "cell_type": "markdown",
      "source": [
        "###Q.19 What does it mean if a dataset is positively or negatively skewed?\n",
        "**Answer:**  \n",
        "1. Positive Skewness (Right Skew)\n",
        "In a positively skewed distribution, the right tail is longer than the left which means most data points are on the left with a few large values pulling the distribution to the right.\n",
        "\n",
        " Relationship: Mean > Median > Mode\n",
        "\n",
        " Examples: Income distribution, exam scores and stock market returns.\n",
        "\n",
        "2. Negative Skewness (Left Skew)\n",
        "In a negatively skewed distribution, the left tail is longer which means most data points are on the right with a few smaller values pulling the distribution to the left.\n",
        "\n",
        " Relationship: Mean < Median < Mode\n",
        "\n",
        " Examples: Test scores on easy exams, age at retirement and gestational age at birth."
      ],
      "metadata": {
        "id": "bMuCM8ZAF32R"
      }
    },
    {
      "cell_type": "markdown",
      "source": [
        "###Q.20 Define and explain kurtosis.\n",
        "**Answer:**  \n",
        "Kurtosis is a statistical measure that describes the shape of a probability distribution, specifically how data is distributed in terms of its peak and tails. It helps determine whether a dataset has more or fewer extreme values (outliers) compared to a normal distribution, essentially indicating the \"tailedness\" of a distribution."
      ],
      "metadata": {
        "id": "2cVY0GTMF32R"
      }
    },
    {
      "cell_type": "markdown",
      "source": [
        "###Q.21 What is the purpose of covariance?\n",
        "**Answer:**  \n",
        "Covariance is a statistical measure that indicates the direction of the linear relationship between two variables. It assesses how much two variables change together from their mean values. Covariance is calculated by taking the average of the product of the deviations of each variable from their respective means. Covariance helps us understand the direction of the relationship but not how strong it is because the number depends on the units used. It’s an important tool to see how two things are connected.\n",
        "\n",
        "1. It is the relationship between a pair of random variables where a change in one variable causes a change in another variable.\n",
        "2. It can take any value between - infinity to +infinity, where the negative value represents the negative relationship whereas a positive value represents the positive relationship.\n",
        "3. It is used for the linear relationship between variables.\n",
        "4. It gives the direction of relationship between variables."
      ],
      "metadata": {
        "id": "-QvgSjt0F32R"
      }
    },
    {
      "cell_type": "markdown",
      "source": [
        "###Q.22  What does correlation measure in statistics?\n",
        "**Answer:**  \n",
        "Correlation is a standardized measure of the strength and direction of the linear relationship between two variables. It is derived from covariance and ranges between -1 and 1. Unlike covariance, which only indicates the direction of the relationship, correlation provides a standardized measure.\n",
        "\n",
        "1. Positive Correlation (close to +1): As one variable increases, the other variable also tends to increase.\n",
        "2. Negative Correlation (close to -1): As one variable increases, the other variable tends to decrease.\n",
        "3. Zero Correlation: There is no linear relationship between the variables."
      ],
      "metadata": {
        "id": "pvft2bg3F32R"
      }
    },
    {
      "cell_type": "markdown",
      "source": [
        "###Q.23 What is the difference between covariance and correlation?\n",
        "\n",
        "**Answer:**  \n",
        "Covariance\n",
        "1. Direction: Tells you if two variables tend to move in the same direction (both increase or both decrease) or opposite directions (one increases, the other decreases).\n",
        "2. Magnitude (Value): The actual number can be any value from negative infinity to positive infinity.\n",
        "  \n",
        "  -> A larger magnitude of the covariance (ignoring the sign) suggests a stronger tendency for the variables to vary together, but it's hard to interpret alone.\n",
        "  \n",
        "  -> Positive value = move in the same direction.\n",
        "  \n",
        "  -> Negative value = move in opposite directions.\n",
        "\n",
        "  -> Zero value = no linear relationship.\n",
        "\n",
        "3. Scale Dependent: The value is affected by the units of measurement of the variables. For example, if you change units from kilograms to grams, the covariance number will change.\n",
        "\n",
        "Correlation\n",
        "1. Strength & Direction: Tells you both the strength and direction of the linear relationship.\n",
        "2. Standardized Value: The correlation coefficient is always between -1 and +1.\n",
        "  \n",
        "  -> +1 means a perfect positive linear relationship.\n",
        "  \n",
        "  -> -1 means a perfect negative linear relationship.\n",
        "\n",
        "  -> 0 means no linear relationship.\n",
        "  \n",
        "  -> Values closer to +1 or -1 indicate a stronger relationship.\n",
        "  \n",
        "3. Unit-Free: Not affected by the units of measurement of the variables.\n",
        "4. Comparison: Easier to compare relationships between different pairs of variables because the scale is consistent (-1 to +1)."
      ],
      "metadata": {
        "id": "1PQ6Zf48F32S"
      }
    },
    {
      "cell_type": "markdown",
      "source": [
        "###Q.24 What are some real-world applications of statistics?\n",
        "**Answer:**  \n",
        "Applications of Statistics -\n",
        "\n",
        "* Healthcare: In the medical field, statistics are used for designing clinical trials, understanding disease prevalence, and evaluating the effectiveness of treatments. It helps in making informed decisions regarding patient care and public health policies.\n",
        "\n",
        "* Business and Economics: Companies rely on statistical analysis for market research, quality control, and financial forecasting. It aids in understanding consumer behavior, optimizing operations, and assessing economic trends.\n",
        "\n",
        "* Environmental Science: Statistics help in monitoring environmental changes, assessing pollution levels, and studying the impact of human activities on the environment. It's vital for developing sustainable practices and policies.\n",
        "\n",
        "* Government and Public Policy: Statistical data is essential for governments in planning, resource allocation, and policy formulation. It supports decision-making in areas like education, transportation, and social services.\n",
        "\n",
        "* Sports: In sports, statistics are used to analyze player performance, strategize game plans, and predict outcomes. It enhances the understanding of game dynamics and improves team performance.\n",
        "\n",
        "* Research and Development: Statistics are fundamental in scientific research, enabling the testing of hypotheses and interpretation of experimental data. It supports innovation and discovery across all scientific disciplines."
      ],
      "metadata": {
        "id": "EUq_EW4jRlVs"
      }
    },
    {
      "cell_type": "markdown",
      "source": [
        "##**Practical Question - Answer**"
      ],
      "metadata": {
        "id": "VsuOzdxqzrjp"
      }
    },
    {
      "cell_type": "markdown",
      "source": [
        "###Q.1  How do you calculate the mean, median, and mode of a dataset?"
      ],
      "metadata": {
        "id": "AtJH2-qszwmi"
      }
    },
    {
      "cell_type": "code",
      "source": [
        "# Mean -\n",
        "\n",
        "import numpy\n",
        "\n",
        "speed = [99,86,87,88,111,86,103,87,94,78,77,85,86]x\n",
        "\n",
        "x = numpy.mean(speed)\n",
        "\n",
        "print(x)"
      ],
      "metadata": {
        "colab": {
          "base_uri": "https://localhost:8080/"
        },
        "id": "e1lmIgy2Sopg",
        "outputId": "154c5c79-1182-416c-eaca-3a4f867adc13"
      },
      "execution_count": 1,
      "outputs": [
        {
          "output_type": "stream",
          "name": "stdout",
          "text": [
            "89.76923076923077\n"
          ]
        }
      ]
    },
    {
      "cell_type": "code",
      "source": [
        "# Median -\n",
        "\n",
        "import numpy\n",
        "\n",
        "speed = [99,86,87,88,111,86,103,87,94,78,77,85,86]\n",
        "\n",
        "x = numpy.median(speed)\n",
        "\n",
        "print(x)"
      ],
      "metadata": {
        "colab": {
          "base_uri": "https://localhost:8080/"
        },
        "id": "SeslE5y1lpHi",
        "outputId": "92f84d23-b36b-4d2a-99d2-a1d3da3de9cd"
      },
      "execution_count": 2,
      "outputs": [
        {
          "output_type": "stream",
          "name": "stdout",
          "text": [
            "87.0\n"
          ]
        }
      ]
    },
    {
      "cell_type": "code",
      "source": [
        "# Mode -\n",
        "import statistics\n",
        "\n",
        "speed = [99,86,87,88,111,86,103,87,94,78,77,85,86]\n",
        "\n",
        "x = statistics.mode(speed)\n",
        "\n",
        "print(x)"
      ],
      "metadata": {
        "colab": {
          "base_uri": "https://localhost:8080/"
        },
        "id": "fB2FmApbnGcr",
        "outputId": "475f7816-1e78-4631-ee30-7c6b12c4ba6a"
      },
      "execution_count": 4,
      "outputs": [
        {
          "output_type": "stream",
          "name": "stdout",
          "text": [
            "86\n"
          ]
        }
      ]
    },
    {
      "cell_type": "markdown",
      "source": [
        "###Q2. Write a Python program to compute the variance and standard deviation of a dataset"
      ],
      "metadata": {
        "id": "K-2jswJi1GXk"
      }
    },
    {
      "cell_type": "code",
      "source": [
        "# Variance\n",
        "import numpy\n",
        "\n",
        "speed = [32,111,138,28,59,77,97]\n",
        "\n",
        "x = numpy.var(speed)\n",
        "\n",
        "print(x)"
      ],
      "metadata": {
        "colab": {
          "base_uri": "https://localhost:8080/"
        },
        "id": "rzGZXhlL0zAo",
        "outputId": "57967a33-0148-4132-a25f-031439f950b6"
      },
      "execution_count": 5,
      "outputs": [
        {
          "output_type": "stream",
          "name": "stdout",
          "text": [
            "1432.2448979591834\n"
          ]
        }
      ]
    },
    {
      "cell_type": "code",
      "source": [
        "# Standard Deviation\n",
        "import numpy\n",
        "\n",
        "speed = [32,111,138,28,59,77,97]\n",
        "\n",
        "x = numpy.std(speed)\n",
        "\n",
        "print(x)"
      ],
      "metadata": {
        "colab": {
          "base_uri": "https://localhost:8080/"
        },
        "id": "usjkwoyj2SDM",
        "outputId": "efa1ce13-75f4-4c24-dd2d-50217fb4237f"
      },
      "execution_count": 6,
      "outputs": [
        {
          "output_type": "stream",
          "name": "stdout",
          "text": [
            "37.84501153334721\n"
          ]
        }
      ]
    },
    {
      "cell_type": "markdown",
      "source": [
        "###Q3: Create a dataset and classify it into nominal, ordinal, interval, and ratio types."
      ],
      "metadata": {
        "id": "hF_omIs9Ky7j"
      }
    },
    {
      "cell_type": "code",
      "source": [
        "dataset = {\n",
        "    \"Nominal\": [\"Red\", \"Blue\", \"Green\"],\n",
        "    \"Ordinal\": [\"Good\", \"Better\", \"Best\"],\n",
        "    \"Interval\": [-10, 0, 10],\n",
        "    \"Ratio\": [5, 10, 15]\n",
        "}\n",
        "dataset"
      ],
      "metadata": {
        "colab": {
          "base_uri": "https://localhost:8080/"
        },
        "id": "1RkyhgwyKyvM",
        "outputId": "84be1b73-6f51-4c2b-a718-3aa8488193e7"
      },
      "execution_count": 1,
      "outputs": [
        {
          "output_type": "execute_result",
          "data": {
            "text/plain": [
              "{'Nominal': ['Red', 'Blue', 'Green'],\n",
              " 'Ordinal': ['Good', 'Better', 'Best'],\n",
              " 'Interval': [-10, 0, 10],\n",
              " 'Ratio': [5, 10, 15]}"
            ]
          },
          "metadata": {},
          "execution_count": 1
        }
      ]
    },
    {
      "cell_type": "markdown",
      "source": [
        "###Q4: Implement sampling techniques like random sampling and stratified sampling."
      ],
      "metadata": {
        "id": "5gEuyZztKyi_"
      }
    },
    {
      "cell_type": "code",
      "source": [
        "from sklearn.model_selection import train_test_split\n",
        "import numpy as np\n",
        "\n",
        "data = range(1, 101)\n",
        "random_sample = np.random.choice(data, 10, replace=False)\n",
        "\n",
        "# For stratified sampling, assuming some stratification variable\n",
        "labels = ['A', 'B']\n",
        "stratified_sample, _ = train_test_split(data, test_size=0.9, stratify=[labels[i%2] for i in data])\n",
        "\n",
        "random_sample, stratified_sample"
      ],
      "metadata": {
        "colab": {
          "base_uri": "https://localhost:8080/"
        },
        "id": "JtrocVyOKyW6",
        "outputId": "00761394-788d-4f44-b407-cacabed3cf01"
      },
      "execution_count": 3,
      "outputs": [
        {
          "output_type": "execute_result",
          "data": {
            "text/plain": [
              "(array([27, 23, 56, 52, 67,  2, 59, 64, 50,  8]),\n",
              " [65, 67, 78, 72, 79, 36, 94, 68, 33, 11])"
            ]
          },
          "metadata": {},
          "execution_count": 3
        }
      ]
    },
    {
      "cell_type": "markdown",
      "source": [
        "###Q5: Write a Python function to calculate the range of a dataset."
      ],
      "metadata": {
        "id": "8VRrliwUKyLJ"
      }
    },
    {
      "cell_type": "code",
      "source": [
        "def calculate_range(data):\n",
        "    return np.max(data) - np.min(data)\n",
        "\n",
        "range_value = calculate_range(data)\n",
        "range_value"
      ],
      "metadata": {
        "colab": {
          "base_uri": "https://localhost:8080/"
        },
        "id": "JOkK6qSsKx-k",
        "outputId": "91921758-6acb-4ebf-b351-8f1cc1cea250"
      },
      "execution_count": 4,
      "outputs": [
        {
          "output_type": "execute_result",
          "data": {
            "text/plain": [
              "np.int64(99)"
            ]
          },
          "metadata": {},
          "execution_count": 4
        }
      ]
    },
    {
      "cell_type": "markdown",
      "source": [
        "###Q6: Create a dataset and plot its histogram to visualize skewness."
      ],
      "metadata": {
        "id": "CVKoeZq-Kxxc"
      }
    },
    {
      "cell_type": "code",
      "source": [
        "import matplotlib.pyplot as plt\n",
        "\n",
        "data = np.random.normal(0, 1, 1000)  # Normally distributed\n",
        "plt.hist(data, bins=30)\n",
        "plt.title('Histogram of Data')\n",
        "plt.show()"
      ],
      "metadata": {
        "colab": {
          "base_uri": "https://localhost:8080/",
          "height": 452
        },
        "id": "LaN16QpwKxfN",
        "outputId": "c45350c9-4fc6-4002-8e4f-c5984d68d292"
      },
      "execution_count": 5,
      "outputs": [
        {
          "output_type": "display_data",
          "data": {
            "text/plain": [
              "<Figure size 640x480 with 1 Axes>"
            ],
            "image/png": "[encoded data removed]"
          },
          "metadata": {}
        }
      ]
    },
    {
      "cell_type": "markdown",
      "source": [
        "###Q7: Calculate skewness and kurtosis of a dataset using Python libraries."
      ],
      "metadata": {
        "id": "tID611wkKxQq"
      }
    },
    {
      "cell_type": "code",
      "source": [
        "from scipy.stats import skew, kurtosis\n",
        "\n",
        "skewness = skew(data)\n",
        "kurt = kurtosis(data)\n",
        "\n",
        "skewness, kurt"
      ],
      "metadata": {
        "colab": {
          "base_uri": "https://localhost:8080/"
        },
        "id": "l0A1_tmOKwyb",
        "outputId": "c0d292df-de65-4013-ebdd-23abf7b112d4"
      },
      "execution_count": 6,
      "outputs": [
        {
          "output_type": "execute_result",
          "data": {
            "text/plain": [
              "(np.float64(-0.11569094381879488), np.float64(-0.040419853851092036))"
            ]
          },
          "metadata": {},
          "execution_count": 6
        }
      ]
    },
    {
      "cell_type": "markdown",
      "source": [
        "###Q8: Generate a dataset and demonstrate positive and negative skewness."
      ],
      "metadata": {
        "id": "l_3ZtiKmKwkn"
      }
    },
    {
      "cell_type": "code",
      "source": [
        "positive_skewed_data = np.random.exponential(scale=2, size=1000)\n",
        "negative_skewed_data = 1 / (np.random.exponential(scale=1, size=1000) + 1)\n",
        "\n",
        "plt.hist(positive_skewed_data, bins=30)\n",
        "plt.title('Positive Skewness')\n",
        "plt.show()\n",
        "\n",
        "plt.hist(negative_skewed_data, bins=30)\n",
        "plt.title('Negative Skewness')\n",
        "plt.show()"
      ],
      "metadata": {
        "colab": {
          "base_uri": "https://localhost:8080/",
          "height": 887
        },
        "id": "_SvxreTnKwYb",
        "outputId": "d74ef0be-eb4d-4cee-b097-b571714bedac"
      },
      "execution_count": 7,
      "outputs": [
        {
          "output_type": "display_data",
          "data": {
            "text/plain": [
              "<Figure size 640x480 with 1 Axes>"
            ],
            "image/png": "[encoded data removed]"
          },
          "metadata": {}
        },
        {
          "output_type": "display_data",
          "data": {
            "text/plain": [
              "<Figure size 640x480 with 1 Axes>"
            ],
            "image/png": "[encoded data removed]"
          },
          "metadata": {}
        }
      ]
    },
    {
      "cell_type": "markdown",
      "source": [
        "###Q9: Write a Python script to calculate covariance between two datasets."
      ],
      "metadata": {
        "id": "p657vi6rKwKT"
      }
    },
    {
      "cell_type": "code",
      "source": [
        "x = [10, 20, 30]\n",
        "y = [12, 24, 36]\n",
        "covariance = np.cov(x, y)[0][1]\n",
        "covariance"
      ],
      "metadata": {
        "colab": {
          "base_uri": "https://localhost:8080/"
        },
        "id": "1XqdPxVwKv8K",
        "outputId": "8c1abcc5-1ac1-44b1-fdc4-feef712ae82e"
      },
      "execution_count": 8,
      "outputs": [
        {
          "output_type": "execute_result",
          "data": {
            "text/plain": [
              "np.float64(120.0)"
            ]
          },
          "metadata": {},
          "execution_count": 8
        }
      ]
    },
    {
      "cell_type": "markdown",
      "source": [
        "###Q10: Write a Python script to calculate the correlation coefficient between two datasets."
      ],
      "metadata": {
        "id": "g-LEI0UGKvv5"
      }
    },
    {
      "cell_type": "code",
      "source": [
        "correlation = np.corrcoef(x, y)[0][1]\n",
        "correlation"
      ],
      "metadata": {
        "colab": {
          "base_uri": "https://localhost:8080/"
        },
        "id": "xhyXwA24Kvkg",
        "outputId": "535f68ce-faa6-4873-a365-6e6a9a06b234"
      },
      "execution_count": 9,
      "outputs": [
        {
          "output_type": "execute_result",
          "data": {
            "text/plain": [
              "np.float64(1.0)"
            ]
          },
          "metadata": {},
          "execution_count": 9
        }
      ]
    },
    {
      "cell_type": "markdown",
      "source": [
        "###Q11: Create a scatter plot to visualize the relationship between two variables"
      ],
      "metadata": {
        "id": "nKqAenmZKvY4"
      }
    },
    {
      "cell_type": "code",
      "source": [
        "plt.scatter(x, y)\n",
        "plt.title('Scatter Plot')\n",
        "plt.xlabel('X')\n",
        "plt.ylabel('Y')\n",
        "plt.show()"
      ],
      "metadata": {
        "colab": {
          "base_uri": "https://localhost:8080/",
          "height": 472
        },
        "id": "n0OOdmGlKvN3",
        "outputId": "f87a1724-7bf6-4caf-ce15-49985b38ba85"
      },
      "execution_count": 10,
      "outputs": [
        {
          "output_type": "display_data",
          "data": {
            "text/plain": [
              "<Figure size 640x480 with 1 Axes>"
            ],
            "image/png": "[encoded data removed]"
          },
          "metadata": {}
        }
      ]
    },
    {
      "cell_type": "markdown",
      "source": [
        "###Q12: Implement and compare simple random sampling and systematic sampling."
      ],
      "metadata": {
        "id": "PkHvoxH6KvBu"
      }
    },
    {
      "cell_type": "code",
      "source": [
        "simple_random = np.random.choice(data, 10, replace=False)\n",
        "\n",
        "# Systematic sampling\n",
        "interval = len(data) // 10\n",
        "systematic_sample = [data[i] for i in range(0, len(data), interval)]\n",
        "\n",
        "simple_random, systematic_sample"
      ],
      "metadata": {
        "colab": {
          "base_uri": "https://localhost:8080/"
        },
        "id": "cSg4KWdUKu2w",
        "outputId": "153b3ac8-7e16-4caa-8f97-188455a2df35"
      },
      "execution_count": 11,
      "outputs": [
        {
          "output_type": "execute_result",
          "data": {
            "text/plain": [
              "(array([ 0.83271965,  1.23175602,  0.76200191,  1.12896864, -0.45836563,\n",
              "        -1.32095712, -0.39827266,  0.68187892,  0.27497876, -0.38961986]),\n",
              " [np.float64(1.1887707187138445),\n",
              "  np.float64(-0.7431624778586814),\n",
              "  np.float64(0.929246914246358),\n",
              "  np.float64(0.10570193143567505),\n",
              "  np.float64(1.4393348697512987),\n",
              "  np.float64(-0.7778573734621451),\n",
              "  np.float64(-3.2076955945074013),\n",
              "  np.float64(-1.5268975072564341),\n",
              "  np.float64(-0.026895349796627374),\n",
              "  np.float64(0.9718347019958654)])"
            ]
          },
          "metadata": {},
          "execution_count": 11
        }
      ]
    },
    {
      "cell_type": "markdown",
      "source": [
        "###Q13: Calculate the mean, median, and mode of grouped data."
      ],
      "metadata": {
        "id": "4kYtVnNYKurH"
      }
    },
    {
      "cell_type": "code",
      "source": [
        "from scipy import stats\n",
        "grouped_data = [5, 10, 10, 15, 20]\n",
        "mean = np.mean(grouped_data)\n",
        "median = np.median(grouped_data)\n",
        "mode = stats.mode(grouped_data)\n",
        "\n",
        "mean, median, mode.mode"
      ],
      "metadata": {
        "colab": {
          "base_uri": "https://localhost:8080/"
        },
        "id": "kWuDaue7KugQ",
        "outputId": "02268c27-9d37-4118-e460-9a8b1ac1c91c"
      },
      "execution_count": 31,
      "outputs": [
        {
          "output_type": "execute_result",
          "data": {
            "text/plain": [
              "(np.float64(12.0), np.float64(10.0), np.int64(10))"
            ]
          },
          "metadata": {},
          "execution_count": 31
        }
      ]
    },
    {
      "cell_type": "markdown",
      "source": [
        "###Q14: Simulate data using Python and calculate its central tendency and dispersion."
      ],
      "metadata": {
        "id": "_F2RHXttKuOf"
      }
    },
    {
      "cell_type": "code",
      "source": [
        "sim_data = np.random.normal(0, 1, 1000)\n",
        "mean = np.mean(sim_data)\n",
        "median = np.median(sim_data)\n",
        "std_dev = np.std(sim_data)\n",
        "\n",
        "mean, median, std_dev"
      ],
      "metadata": {
        "colab": {
          "base_uri": "https://localhost:8080/"
        },
        "id": "RrGlF_7BKuEP",
        "outputId": "097acabd-2346-41ed-f19b-552f13b70550"
      },
      "execution_count": 13,
      "outputs": [
        {
          "output_type": "execute_result",
          "data": {
            "text/plain": [
              "(np.float64(-0.01812249193289379),\n",
              " np.float64(0.014053661224074643),\n",
              " np.float64(1.0005310927337332))"
            ]
          },
          "metadata": {},
          "execution_count": 13
        }
      ]
    },
    {
      "cell_type": "markdown",
      "source": [
        "###Q15: Use NumPy or pandas to summarize a dataset’s descriptive statistics."
      ],
      "metadata": {
        "id": "DaZUk0UuKt4b"
      }
    },
    {
      "cell_type": "code",
      "source": [
        "import pandas as pd\n",
        "\n",
        "df = pd.DataFrame(sim_data, columns=['Values'])\n",
        "summary = df.describe()\n",
        "\n",
        "summary"
      ],
      "metadata": {
        "colab": {
          "base_uri": "https://localhost:8080/",
          "height": 300
        },
        "id": "LciQkESuKttu",
        "outputId": "33f42d94-ffee-4356-de42-4ccce9123151"
      },
      "execution_count": 14,
      "outputs": [
        {
          "output_type": "execute_result",
          "data": {
            "text/plain": [
              "            Values\n",
              "count  1000.000000\n",
              "mean     -0.018122\n",
              "std       1.001032\n",
              "min      -3.420714\n",
              "25%      -0.651203\n",
              "50%       0.014054\n",
              "75%       0.602828\n",
              "max       2.886124"
            ],
            "text/html": [
              "\n",
              "  <div id=\"df-fcadc586-d649-48e2-858b-d854cb276bfd\" class=\"colab-df-container\">\n",
              "    <div>\n",
              "<style scoped>\n",
              "    .dataframe tbody tr th:only-of-type {\n",
              "        vertical-align: middle;\n",
              "    }\n",
              "\n",
              "    .dataframe tbody tr th {\n",
              "        vertical-align: top;\n",
              "    }\n",
              "\n",
              "    .dataframe thead th {\n",
              "        text-align: right;\n",
              "    }\n",
              "</style>\n",
              "<table border=\"1\" class=\"dataframe\">\n",
              "  <thead>\n",
              "    <tr style=\"text-align: right;\">\n",
              "      <th></th>\n",
              "      <th>Values</th>\n",
              "    </tr>\n",
              "  </thead>\n",
              "  <tbody>\n",
              "    <tr>\n",
              "      <th>count</th>\n",
              "      <td>1000.000000</td>\n",
              "    </tr>\n",
              "    <tr>\n",
              "      <th>mean</th>\n",
              "      <td>-0.018122</td>\n",
              "    </tr>\n",
              "    <tr>\n",
              "      <th>std</th>\n",
              "      <td>1.001032</td>\n",
              "    </tr>\n",
              "    <tr>\n",
              "      <th>min</th>\n",
              "      <td>-3.420714</td>\n",
              "    </tr>\n",
              "    <tr>\n",
              "      <th>25%</th>\n",
              "      <td>-0.651203</td>\n",
              "    </tr>\n",
              "    <tr>\n",
              "      <th>50%</th>\n",
              "      <td>0.014054</td>\n",
              "    </tr>\n",
              "    <tr>\n",
              "      <th>75%</th>\n",
              "      <td>0.602828</td>\n",
              "    </tr>\n",
              "    <tr>\n",
              "      <th>max</th>\n",
              "      <td>2.886124</td>\n",
              "    </tr>\n",
              "  </tbody>\n",
              "</table>\n",
              "</div>\n",
              "    <div class=\"colab-df-buttons\">\n",
              "\n",
              "  <div class=\"colab-df-container\">\n",
              "    <button class=\"colab-df-convert\" onclick=\"convertToInteractive('df-fcadc586-d649-48e2-858b-d854cb276bfd')\"\n",
              "            title=\"Convert this dataframe to an interactive table.\"\n",
              "            style=\"display:none;\">\n",
              "\n",
              "  <svg xmlns=\"http://www.w3.org/2000/svg\" height=\"24px\" viewBox=\"0 -960 960 960\">\n",
              "    <path d=\"M120-120v-720h720v720H120Zm60-500h600v-160H180v160Zm220 220h160v-160H400v160Zm0 220h160v-160H400v160ZM180-400h160v-160H180v160Zm440 0h160v-160H620v160ZM180-180h160v-160H180v160Zm440 0h160v-160H620v160Z\"/>\n",
              "  </svg>\n",
              "    </button>\n",
              "\n",
              "  <style>\n",
              "    .colab-df-container {\n",
              "      display:flex;\n",
              "      gap: 12px;\n",
              "    }\n",
              "\n",
              "    .colab-df-convert {\n",
              "      background-color: #E8F0FE;\n",
              "      border: none;\n",
              "      border-radius: 50%;\n",
              "      cursor: pointer;\n",
              "      display: none;\n",
              "      fill: #1967D2;\n",
              "      height: 32px;\n",
              "      padding: 0 0 0 0;\n",
              "      width: 32px;\n",
              "    }\n",
              "\n",
              "    .colab-df-convert:hover {\n",
              "      background-color: #E2EBFA;\n",
              "      box-shadow: 0px 1px 2px rgba(60, 64, 67, 0.3), 0px 1px 3px 1px rgba(60, 64, 67, 0.15);\n",
              "      fill: #174EA6;\n",
              "    }\n",
              "\n",
              "    .colab-df-buttons div {\n",
              "      margin-bottom: 4px;\n",
              "    }\n",
              "\n",
              "    [theme=dark] .colab-df-convert {\n",
              "      background-color: #3B4455;\n",
              "      fill: #D2E3FC;\n",
              "    }\n",
              "\n",
              "    [theme=dark] .colab-df-convert:hover {\n",
              "      background-color: #434B5C;\n",
              "      box-shadow: 0px 1px 3px 1px rgba(0, 0, 0, 0.15);\n",
              "      filter: drop-shadow(0px 1px 2px rgba(0, 0, 0, 0.3));\n",
              "      fill: #FFFFFF;\n",
              "    }\n",
              "  </style>\n",
              "\n",
              "    <script>\n",
              "      const buttonEl =\n",
              "        document.querySelector('#df-fcadc586-d649-48e2-858b-d854cb276bfd button.colab-df-convert');\n",
              "      buttonEl.style.display =\n",
              "        google.colab.kernel.accessAllowed ? 'block' : 'none';\n",
              "\n",
              "      async function convertToInteractive(key) {\n",
              "        const element = document.querySelector('#df-fcadc586-d649-48e2-858b-d854cb276bfd');\n",
              "        const dataTable =\n",
              "          await google.colab.kernel.invokeFunction('convertToInteractive',\n",
              "                                                    [key], {});\n",
              "        if (!dataTable) return;\n",
              "\n",
              "        const docLinkHtml = 'Like what you see? Visit the ' +\n",
              "          '<a target=\"_blank\" href=https://colab.research.google.com/notebooks/data_table.ipynb>data table notebook</a>'\n",
              "          + ' to learn more about interactive tables.';\n",
              "        element.innerHTML = '';\n",
              "        dataTable['output_type'] = 'display_data';\n",
              "        await google.colab.output.renderOutput(dataTable, element);\n",
              "        const docLink = document.createElement('div');\n",
              "        docLink.innerHTML = docLinkHtml;\n",
              "        element.appendChild(docLink);\n",
              "      }\n",
              "    </script>\n",
              "  </div>\n",
              "\n",
              "\n",
              "    <div id=\"df-2a6af9b7-bf47-4583-9bd4-775abf8c4930\">\n",
              "      <button class=\"colab-df-quickchart\" onclick=\"quickchart('df-2a6af9b7-bf47-4583-9bd4-775abf8c4930')\"\n",
              "                title=\"Suggest charts\"\n",
              "                style=\"display:none;\">\n",
              "\n",
              "<svg xmlns=\"http://www.w3.org/2000/svg\" height=\"24px\"viewBox=\"0 0 24 24\"\n",
              "     width=\"24px\">\n",
              "    <g>\n",
              "        <path d=\"M19 3H5c-1.1 0-2 .9-2 2v14c0 1.1.9 2 2 2h14c1.1 0 2-.9 2-2V5c0-1.1-.9-2-2-2zM9 17H7v-7h2v7zm4 0h-2V7h2v10zm4 0h-2v-4h2v4z\"/>\n",
              "    </g>\n",
              "</svg>\n",
              "      </button>\n",
              "\n",
              "<style>\n",
              "  .colab-df-quickchart {\n",
              "      --bg-color: #E8F0FE;\n",
              "      --fill-color: #1967D2;\n",
              "      --hover-bg-color: #E2EBFA;\n",
              "      --hover-fill-color: #174EA6;\n",
              "      --disabled-fill-color: #AAA;\n",
              "      --disabled-bg-color: #DDD;\n",
              "  }\n",
              "\n",
              "  [theme=dark] .colab-df-quickchart {\n",
              "      --bg-color: #3B4455;\n",
              "      --fill-color: #D2E3FC;\n",
              "      --hover-bg-color: #434B5C;\n",
              "      --hover-fill-color: #FFFFFF;\n",
              "      --disabled-bg-color: #3B4455;\n",
              "      --disabled-fill-color: #666;\n",
              "  }\n",
              "\n",
              "  .colab-df-quickchart {\n",
              "    background-color: var(--bg-color);\n",
              "    border: none;\n",
              "    border-radius: 50%;\n",
              "    cursor: pointer;\n",
              "    display: none;\n",
              "    fill: var(--fill-color);\n",
              "    height: 32px;\n",
              "    padding: 0;\n",
              "    width: 32px;\n",
              "  }\n",
              "\n",
              "  .colab-df-quickchart:hover {\n",
              "    background-color: var(--hover-bg-color);\n",
              "    box-shadow: 0 1px 2px rgba(60, 64, 67, 0.3), 0 1px 3px 1px rgba(60, 64, 67, 0.15);\n",
              "    fill: var(--button-hover-fill-color);\n",
              "  }\n",
              "\n",
              "  .colab-df-quickchart-complete:disabled,\n",
              "  .colab-df-quickchart-complete:disabled:hover {\n",
              "    background-color: var(--disabled-bg-color);\n",
              "    fill: var(--disabled-fill-color);\n",
              "    box-shadow: none;\n",
              "  }\n",
              "\n",
              "  .colab-df-spinner {\n",
              "    border: 2px solid var(--fill-color);\n",
              "    border-color: transparent;\n",
              "    border-bottom-color: var(--fill-color);\n",
              "    animation:\n",
              "      spin 1s steps(1) infinite;\n",
              "  }\n",
              "\n",
              "  @keyframes spin {\n",
              "    0% {\n",
              "      border-color: transparent;\n",
              "      border-bottom-color: var(--fill-color);\n",
              "      border-left-color: var(--fill-color);\n",
              "    }\n",
              "    20% {\n",
              "      border-color: transparent;\n",
              "      border-left-color: var(--fill-color);\n",
              "      border-top-color: var(--fill-color);\n",
              "    }\n",
              "    30% {\n",
              "      border-color: transparent;\n",
              "      border-left-color: var(--fill-color);\n",
              "      border-top-color: var(--fill-color);\n",
              "      border-right-color: var(--fill-color);\n",
              "    }\n",
              "    40% {\n",
              "      border-color: transparent;\n",
              "      border-right-color: var(--fill-color);\n",
              "      border-top-color: var(--fill-color);\n",
              "    }\n",
              "    60% {\n",
              "      border-color: transparent;\n",
              "      border-right-color: var(--fill-color);\n",
              "    }\n",
              "    80% {\n",
              "      border-color: transparent;\n",
              "      border-right-color: var(--fill-color);\n",
              "      border-bottom-color: var(--fill-color);\n",
              "    }\n",
              "    90% {\n",
              "      border-color: transparent;\n",
              "      border-bottom-color: var(--fill-color);\n",
              "    }\n",
              "  }\n",
              "</style>\n",
              "\n",
              "      <script>\n",
              "        async function quickchart(key) {\n",
              "          const quickchartButtonEl =\n",
              "            document.querySelector('#' + key + ' button');\n",
              "          quickchartButtonEl.disabled = true;  // To prevent multiple clicks.\n",
              "          quickchartButtonEl.classList.add('colab-df-spinner');\n",
              "          try {\n",
              "            const charts = await google.colab.kernel.invokeFunction(\n",
              "                'suggestCharts', [key], {});\n",
              "          } catch (error) {\n",
              "            console.error('Error during call to suggestCharts:', error);\n",
              "          }\n",
              "          quickchartButtonEl.classList.remove('colab-df-spinner');\n",
              "          quickchartButtonEl.classList.add('colab-df-quickchart-complete');\n",
              "        }\n",
              "        (() => {\n",
              "          let quickchartButtonEl =\n",
              "            document.querySelector('#df-2a6af9b7-bf47-4583-9bd4-775abf8c4930 button');\n",
              "          quickchartButtonEl.style.display =\n",
              "            google.colab.kernel.accessAllowed ? 'block' : 'none';\n",
              "        })();\n",
              "      </script>\n",
              "    </div>\n",
              "\n",
              "  <div id=\"id_1b5cad4b-e135-4707-b46b-3cb1a7daf85d\">\n",
              "    <style>\n",
              "      .colab-df-generate {\n",
              "        background-color: #E8F0FE;\n",
              "        border: none;\n",
              "        border-radius: 50%;\n",
              "        cursor: pointer;\n",
              "        display: none;\n",
              "        fill: #1967D2;\n",
              "        height: 32px;\n",
              "        padding: 0 0 0 0;\n",
              "        width: 32px;\n",
              "      }\n",
              "\n",
              "      .colab-df-generate:hover {\n",
              "        background-color: #E2EBFA;\n",
              "        box-shadow: 0px 1px 2px rgba(60, 64, 67, 0.3), 0px 1px 3px 1px rgba(60, 64, 67, 0.15);\n",
              "        fill: #174EA6;\n",
              "      }\n",
              "\n",
              "      [theme=dark] .colab-df-generate {\n",
              "        background-color: #3B4455;\n",
              "        fill: #D2E3FC;\n",
              "      }\n",
              "\n",
              "      [theme=dark] .colab-df-generate:hover {\n",
              "        background-color: #434B5C;\n",
              "        box-shadow: 0px 1px 3px 1px rgba(0, 0, 0, 0.15);\n",
              "        filter: drop-shadow(0px 1px 2px rgba(0, 0, 0, 0.3));\n",
              "        fill: #FFFFFF;\n",
              "      }\n",
              "    </style>\n",
              "    <button class=\"colab-df-generate\" onclick=\"generateWithVariable('summary')\"\n",
              "            title=\"Generate code using this dataframe.\"\n",
              "            style=\"display:none;\">\n",
              "\n",
              "  <svg xmlns=\"http://www.w3.org/2000/svg\" height=\"24px\"viewBox=\"0 0 24 24\"\n",
              "       width=\"24px\">\n",
              "    <path d=\"M7,19H8.4L18.45,9,17,7.55,7,17.6ZM5,21V16.75L18.45,3.32a2,2,0,0,1,2.83,0l1.4,1.43a1.91,1.91,0,0,1,.58,1.4,1.91,1.91,0,0,1-.58,1.4L9.25,21ZM18.45,9,17,7.55Zm-12,3A5.31,5.31,0,0,0,4.9,8.1,5.31,5.31,0,0,0,1,6.5,5.31,5.31,0,0,0,4.9,4.9,5.31,5.31,0,0,0,6.5,1,5.31,5.31,0,0,0,8.1,4.9,5.31,5.31,0,0,0,12,6.5,5.46,5.46,0,0,0,6.5,12Z\"/>\n",
              "  </svg>\n",
              "    </button>\n",
              "    <script>\n",
              "      (() => {\n",
              "      const buttonEl =\n",
              "        document.querySelector('#id_1b5cad4b-e135-4707-b46b-3cb1a7daf85d button.colab-df-generate');\n",
              "      buttonEl.style.display =\n",
              "        google.colab.kernel.accessAllowed ? 'block' : 'none';\n",
              "\n",
              "      buttonEl.onclick = () => {\n",
              "        google.colab.notebook.generateWithVariable('summary');\n",
              "      }\n",
              "      })();\n",
              "    </script>\n",
              "  </div>\n",
              "\n",
              "    </div>\n",
              "  </div>\n"
            ],
            "application/vnd.google.colaboratory.intrinsic+json": {
              "type": "dataframe",
              "variable_name": "summary",
              "summary": "{\n  \"name\": \"summary\",\n  \"rows\": 8,\n  \"fields\": [\n    {\n      \"column\": \"Values\",\n      \"properties\": {\n        \"dtype\": \"number\",\n        \"std\": 353.5368842952807,\n        \"min\": -3.420713954123763,\n        \"max\": 1000.0,\n        \"num_unique_values\": 8,\n        \"samples\": [\n          -0.01812249193289379,\n          0.014053661224074643,\n          1000.0\n        ],\n        \"semantic_type\": \"\",\n        \"description\": \"\"\n      }\n    }\n  ]\n}"
            }
          },
          "metadata": {},
          "execution_count": 14
        }
      ]
    },
    {
      "cell_type": "markdown",
      "source": [
        "###Q16: Plot a boxplot to understand the spread and identify outliers."
      ],
      "metadata": {
        "id": "-xEqOVCYKtix"
      }
    },
    {
      "cell_type": "code",
      "source": [
        "plt.boxplot(sim_data)\n",
        "plt.title('Boxplot')\n",
        "plt.show()"
      ],
      "metadata": {
        "colab": {
          "base_uri": "https://localhost:8080/",
          "height": 452
        },
        "id": "i2S2BWyRKtXK",
        "outputId": "6008d49c-babe-4550-f279-d47e6ff3ae9f"
      },
      "execution_count": 15,
      "outputs": [
        {
          "output_type": "display_data",
          "data": {
            "text/plain": [
              "<Figure size 640x480 with 1 Axes>"
            ],
            "image/png": "[encoded data removed]"
          },
          "metadata": {}
        }
      ]
    },
    {
      "cell_type": "markdown",
      "source": [
        "###Q17: Calculate the interquartile range (IQR) of a dataset."
      ],
      "metadata": {
        "id": "H59-1RhsKsrR"
      }
    },
    {
      "cell_type": "code",
      "source": [
        "Q1 = np.percentile(sim_data, 25)\n",
        "Q3 = np.percentile(sim_data, 75)\n",
        "IQR = Q3 - Q1\n",
        "\n",
        "IQR"
      ],
      "metadata": {
        "colab": {
          "base_uri": "https://localhost:8080/"
        },
        "id": "GGp-ZPVcMwY-",
        "outputId": "3cf182c9-b17c-47aa-c7de-ebc5f2f1cab6"
      },
      "execution_count": 16,
      "outputs": [
        {
          "output_type": "execute_result",
          "data": {
            "text/plain": [
              "np.float64(1.2540311385351592)"
            ]
          },
          "metadata": {},
          "execution_count": 16
        }
      ]
    },
    {
      "cell_type": "markdown",
      "source": [
        "###Q18: Implement Z-score normalization and explain its significance."
      ],
      "metadata": {
        "id": "x2xka-LcI23g"
      }
    },
    {
      "cell_type": "code",
      "source": [
        "z_scores = (sim_data - np.mean(sim_data)) / np.std(sim_data)\n",
        "\n",
        "# Z-score normalization transforms data into a distribution with a mean of 0 and standard deviation of 1.\n",
        "z_scores"
      ],
      "metadata": {
        "colab": {
          "base_uri": "https://localhost:8080/"
        },
        "id": "QOLbHEhYM15E",
        "outputId": "a8e38c4b-b1fa-4886-b437-249e54d950be"
      },
      "execution_count": 17,
      "outputs": [
        {
          "output_type": "execute_result",
          "data": {
            "text/plain": [
              "array([-1.04222059e+00,  7.15820080e-01, -4.74941001e-01, -4.47417728e-01,\n",
              "        2.28538206e+00,  1.85950544e+00, -3.45740831e-02,  1.63251951e+00,\n",
              "        4.87140810e-01, -4.93587513e-01, -9.06687678e-01, -1.22225720e+00,\n",
              "       -2.30198278e+00, -1.48054443e-01, -9.79083824e-02,  1.09603360e+00,\n",
              "        3.93005793e-01, -1.08391720e-01, -4.05751516e-01, -3.14726019e-01,\n",
              "        6.82363394e-01,  1.44938308e+00, -7.62828693e-01, -5.89993463e-01,\n",
              "       -9.40401548e-01,  4.80612832e-01, -8.55743836e-02, -4.77612667e-01,\n",
              "       -5.23386122e-01, -3.52551618e-01, -8.49560513e-01, -1.19101195e-01,\n",
              "       -9.59294186e-01, -8.53194217e-01, -4.52606910e-02,  2.96817008e-01,\n",
              "        4.23267759e-01, -1.33222548e+00,  5.03556459e-01,  8.49260960e-01,\n",
              "       -4.51169017e-01, -1.72392209e+00,  1.32209761e+00, -1.89584484e-01,\n",
              "       -3.72190382e-02,  1.08930348e+00,  6.28943657e-01,  1.84612462e-01,\n",
              "        4.68707163e-01,  6.05937476e-01,  8.42347176e-01,  1.72601258e-01,\n",
              "        2.00702216e-02,  1.60297625e+00,  5.03341210e-01, -3.86334777e-01,\n",
              "        2.90614898e-01,  1.27289090e-01, -1.36785825e+00,  4.44735949e-01,\n",
              "        6.10622591e-01,  7.72798487e-01,  7.64040747e-01,  2.01308690e+00,\n",
              "       -6.04210261e-01, -4.19985037e-01,  5.88186772e-02,  1.02904929e+00,\n",
              "        9.07273427e-01,  2.07674042e+00, -8.51819799e-01,  1.08040750e+00,\n",
              "       -1.08975438e+00, -1.24694881e-01, -1.93543779e-01, -1.06659994e+00,\n",
              "       -6.19186181e-01,  3.60853907e-01, -3.84241682e-01,  1.97463458e+00,\n",
              "        1.14117058e+00,  2.75360026e-01, -8.69460071e-01,  5.74853020e-01,\n",
              "        1.47062011e-01,  1.99801894e+00, -6.48831325e-01, -4.83907939e-01,\n",
              "        9.23303126e-02,  3.38536851e-01,  1.17141042e-01, -5.26254461e-01,\n",
              "        1.83597726e-01,  9.86701322e-01,  7.13497396e-01, -1.00991674e+00,\n",
              "        5.06311515e-01,  5.80584297e-02, -9.56864555e-01, -1.57958196e+00,\n",
              "        1.01289540e+00,  1.23324727e+00, -7.74438311e-02, -2.87332647e-01,\n",
              "       -2.00291889e+00,  6.60221655e-01,  1.26980593e-01,  9.24050170e-02,\n",
              "        1.15270148e+00, -1.19531364e+00,  6.07868659e-01,  9.46833308e-02,\n",
              "        5.67769041e-01, -3.46620913e-01, -9.49181735e-01,  5.30109906e-01,\n",
              "       -1.68945595e+00, -5.78440320e-01, -8.55608509e-02,  1.10763243e-01,\n",
              "        2.27553964e+00,  1.63361209e+00, -1.38547364e+00, -7.49339797e-01,\n",
              "       -1.23344635e+00,  2.00402101e-01, -6.56948575e-01,  1.05636432e+00,\n",
              "        5.11871403e-01, -6.67291840e-01,  6.60366874e-01, -3.67384816e-01,\n",
              "        8.61457794e-01,  4.07474572e-01, -1.52225615e-01,  8.93132660e-01,\n",
              "       -2.41338776e+00,  6.61288177e-01, -6.08176428e-01, -2.27176123e+00,\n",
              "        4.33702776e-01,  1.23649650e+00, -1.11693836e-01,  1.10586710e+00,\n",
              "       -1.06278724e+00,  4.98695368e-01,  1.78359345e+00, -1.22208997e+00,\n",
              "       -2.44071843e-01,  7.71172203e-01, -4.29989842e-02,  4.98075536e-01,\n",
              "        1.64878559e+00,  5.34948340e-01, -1.11618412e+00, -8.23395416e-01,\n",
              "        3.55996288e-01,  1.01684167e-01, -1.11887890e+00, -1.92691829e+00,\n",
              "        4.77317741e-01,  6.59384170e-02, -3.17527705e-01,  9.44391500e-01,\n",
              "       -7.22315167e-01, -8.67467512e-01, -6.57721741e-01,  6.94929628e-01,\n",
              "        1.11766448e+00, -5.24591926e-01, -2.08049720e-01,  1.07078269e-01,\n",
              "       -6.80460157e-01, -4.46399035e-01,  4.47073236e-03,  2.82586972e-01,\n",
              "       -4.81541600e-01,  4.40777855e-02, -1.97551071e+00,  2.43842448e-01,\n",
              "        1.52265815e+00, -4.81027923e-01, -3.77136075e-01, -1.23987661e+00,\n",
              "       -1.43584675e-01, -8.23683359e-01,  1.61588500e+00, -1.21333629e+00,\n",
              "       -1.16657220e+00,  4.99921390e-01,  1.12438999e-01, -2.78523870e-01,\n",
              "        3.29482202e-01, -3.13303701e-02,  2.34720566e-01, -1.42795905e+00,\n",
              "        4.22346015e-01, -3.58415119e-01,  2.67688567e-01,  1.86213720e-01,\n",
              "        3.26115365e-02,  9.45707653e-01,  7.40575967e-01, -9.61902644e-01,\n",
              "       -1.62747306e+00,  3.43889374e-01, -1.38059881e+00,  1.62160368e+00,\n",
              "        2.30244660e+00,  7.17200784e-01,  3.15449675e-01, -3.47634302e-01,\n",
              "        2.37282242e+00,  6.65309699e-01,  5.54964084e-01, -1.17044688e+00,\n",
              "       -3.24367083e-01,  1.23223749e-01, -2.10473539e+00, -6.37732601e-01,\n",
              "        1.81496498e+00,  5.42671373e-01,  9.89463544e-01, -2.42322786e-01,\n",
              "        1.33937897e-02,  1.17652183e+00,  5.00931789e-01, -8.62889266e-01,\n",
              "        4.85801141e-01,  2.21573877e+00,  1.49899579e-01, -4.79268287e-02,\n",
              "       -9.03173589e-01,  6.89506964e-01, -1.28054729e-01, -7.86076619e-01,\n",
              "       -1.20075747e+00,  5.63490165e-01, -5.53351849e-01, -3.78328323e-01,\n",
              "        3.75372396e-01,  1.34446111e+00, -1.71819683e+00,  3.41271375e-01,\n",
              "       -5.52136359e-01, -1.03399124e-01,  2.86387146e-01,  3.28904070e-01,\n",
              "        9.49199730e-01,  4.08044271e-02, -2.26041749e-01,  1.70960295e-01,\n",
              "        9.66371562e-01, -1.11606535e+00,  3.01270266e-01,  9.67111143e-01,\n",
              "       -7.85804667e-01, -1.05570238e-01, -6.82609534e-02,  8.93360275e-01,\n",
              "       -3.65881564e-01,  1.72468734e-01,  1.99377856e-01, -6.29180484e-01,\n",
              "       -2.71098338e-01,  2.15701248e+00,  9.83073827e-02, -5.38138921e-01,\n",
              "        1.77037635e-01, -1.65488844e-01, -1.73134408e+00,  1.80388300e-01,\n",
              "        2.03589252e+00,  6.18619901e-01,  8.14728624e-01,  1.39912638e+00,\n",
              "        2.04346502e+00, -8.50301088e-01, -2.91774898e-01,  6.61101540e-01,\n",
              "       -3.33970430e+00,  3.46453440e-01, -6.01756365e-01,  1.17125538e-01,\n",
              "        6.79722213e-01,  1.62410255e+00,  6.68712783e-01, -1.64349706e+00,\n",
              "        6.67618802e-01,  4.31847811e-01,  1.12130211e-01,  1.65149919e+00,\n",
              "        2.01277025e+00, -1.56261743e+00,  9.30989031e-01, -8.26793213e-01,\n",
              "        9.21774028e-01,  4.25250595e-01,  2.08076207e-01, -1.01476093e+00,\n",
              "        6.86300940e-01,  2.90270532e+00, -1.44229976e+00,  8.95911451e-01,\n",
              "        9.85376837e-01,  6.00739683e-01,  1.01792882e+00,  3.28132898e-01,\n",
              "        1.88706130e-01, -5.05246058e-01, -2.36740748e+00,  8.49550968e-03,\n",
              "       -4.33849405e-01, -1.12779046e+00, -9.63204954e-01, -2.23333725e+00,\n",
              "       -6.81718444e-01,  3.55749985e-01,  1.34386334e+00, -3.22483372e-01,\n",
              "        2.20575797e+00,  1.88310563e+00, -1.84893060e+00,  1.17628097e-01,\n",
              "        3.42390323e-01,  5.31214719e-01, -2.79544750e-01,  5.95583287e-01,\n",
              "       -9.58802875e-01, -4.65674937e-01,  3.11126986e-01,  1.26374717e+00,\n",
              "        8.74538795e-01, -1.56949826e+00, -1.24052907e+00, -2.23368278e-01,\n",
              "        6.48085145e-01, -1.30259272e+00,  3.89512704e-01,  1.98330713e-01,\n",
              "       -2.01986018e+00,  5.78148803e-01, -1.22844575e+00,  9.75349941e-01,\n",
              "       -6.69074890e-01,  1.86751697e-01,  2.22439246e+00,  7.06079138e-01,\n",
              "        5.64291581e-01, -5.56636623e-01,  8.46956893e-02,  7.31697855e-01,\n",
              "       -1.61557562e+00,  1.09305486e+00,  8.10228827e-01, -5.44597078e-01,\n",
              "       -6.86609024e-01, -8.66011684e-02,  1.14644335e+00, -1.75317053e+00,\n",
              "       -6.55663001e-01,  4.98320853e-01, -6.81372126e-01,  1.53472804e+00,\n",
              "       -4.69386219e-01,  1.35439631e+00, -1.21141633e+00,  4.14235854e-01,\n",
              "       -5.62365895e-01,  1.55470732e+00,  9.79379092e-02,  5.57978472e-01,\n",
              "       -3.21692224e+00, -7.85317803e-01,  2.38855007e-01,  1.34114142e+00,\n",
              "        4.83687692e-01, -1.16961901e+00, -1.80754619e+00, -9.25030279e-01,\n",
              "        4.72073357e-01, -5.48029839e-01,  6.48261984e-01, -2.46648854e-01,\n",
              "        2.42568360e-01, -8.42277797e-01,  7.49668231e-01, -2.98843399e-01,\n",
              "       -1.27259607e+00, -3.85634308e-01, -8.00186998e-01,  2.14424875e-01,\n",
              "        1.53842335e+00, -6.75040605e-01, -2.17033473e-02,  7.96250925e-01,\n",
              "       -9.83531676e-02, -1.82156786e-01,  2.33710898e-01,  2.65012950e-01,\n",
              "       -1.57428432e-01, -1.49577473e-01, -4.18046519e-01, -6.39238792e-01,\n",
              "       -9.14413388e-01,  1.44795331e-01, -7.93806763e-01,  1.84912843e+00,\n",
              "        3.38554655e-01, -2.21826533e+00,  2.20568003e-01, -5.01338173e-01,\n",
              "       -1.17390048e-01, -3.11323066e-03,  1.93107556e-01, -8.32784297e-01,\n",
              "        1.98705070e-01,  2.46054902e-01,  2.99787432e-01, -2.12543666e+00,\n",
              "       -6.52465519e-01,  2.16743811e-01, -1.04204104e+00,  3.74635213e-01,\n",
              "        1.25527482e-01, -6.01183936e-01, -1.30709283e+00, -6.36336011e-01,\n",
              "        3.89139690e-02, -2.26728738e+00, -9.75787657e-01, -1.70554728e+00,\n",
              "        2.67275271e-01, -1.38080984e+00, -1.50326498e-02,  8.04341355e-03,\n",
              "        1.58277134e-01,  1.27812287e-01,  3.87029178e-01,  7.82545787e-01,\n",
              "        6.17461063e-01,  4.04065232e-01,  4.24336630e-01, -2.89012677e-01,\n",
              "       -4.23058266e-02,  1.04521816e-01,  6.68060110e-01, -7.35550343e-02,\n",
              "       -8.60424171e-01,  3.05139002e-01,  1.63570047e+00,  1.50230111e+00,\n",
              "       -1.24020334e-01, -1.04917583e+00,  1.22669276e+00, -2.83099890e-01,\n",
              "       -1.51974447e-01,  9.07559540e-01,  3.71117127e-01, -1.47954153e+00,\n",
              "        5.76253608e-01, -7.25348217e-01,  1.41267715e+00,  3.84713296e-01,\n",
              "        5.83875639e-01, -1.46256876e-02, -2.47352766e-01, -2.81771992e-01,\n",
              "        4.33467682e-01, -6.32743373e-01,  2.96511281e-01, -2.25647294e+00,\n",
              "       -4.64839929e-01,  1.95330166e-01,  3.30175602e-01, -1.24627520e+00,\n",
              "        1.29568156e+00,  2.61693834e+00,  6.88489889e-01,  1.40114565e-01,\n",
              "        1.08081696e-01, -1.54092739e+00,  5.85195748e-01,  9.69560144e-01,\n",
              "        2.15434121e+00, -4.54835038e-01, -1.60880305e+00, -3.64211037e-02,\n",
              "       -7.54529184e-01,  2.23428334e+00, -1.06934367e-01,  6.18842455e-01,\n",
              "        1.38425411e+00, -4.98304524e-01,  1.14814136e+00, -1.47198524e+00,\n",
              "       -6.08642186e-01, -1.51370172e+00, -1.30886560e+00, -1.37851191e-01,\n",
              "       -1.14282568e+00,  2.07294271e+00, -3.69134209e-01, -1.04370818e+00,\n",
              "        1.41930132e+00,  7.23964137e-01,  2.49348863e-01,  7.94971000e-01,\n",
              "       -5.96233977e-01,  5.82017525e-01, -8.84080311e-01, -7.51460461e-01,\n",
              "        6.74200473e-01, -8.69228558e-01, -5.84563511e-03,  4.19490464e-01,\n",
              "        1.55739601e+00,  7.79191639e-01,  1.27774721e+00, -3.69586556e-01,\n",
              "       -1.15705634e-01,  9.21274020e-01,  1.09266094e+00,  4.07776643e-01,\n",
              "        1.23026537e+00,  5.93873068e-02,  1.24182037e+00,  4.86075199e-01,\n",
              "        9.08018945e-02,  4.69564444e-01, -4.88285692e-01, -8.25741131e-02,\n",
              "        1.54065759e+00, -1.14164731e-01, -9.25618076e-01,  1.06157194e+00,\n",
              "       -2.30652631e+00, -1.05541635e-01, -3.03764438e-02,  3.41602185e-01,\n",
              "       -1.02296715e+00,  1.17655309e+00,  6.79440069e-01,  7.21817246e-01,\n",
              "       -1.89537515e+00,  1.55896399e-01,  1.81284597e+00, -4.80263987e-01,\n",
              "       -1.15558776e+00,  1.26906817e+00, -2.54181712e-01, -3.01925203e-01,\n",
              "       -1.34886347e+00,  7.28334933e-01,  1.24557450e+00, -3.45934229e-02,\n",
              "        3.17066109e-02, -2.42625750e-03,  5.20653170e-01, -1.26324142e+00,\n",
              "       -3.85536264e-01,  2.17832039e+00, -1.88133088e+00,  1.77939459e+00,\n",
              "       -2.67162447e+00,  5.62513881e-01, -2.10035701e+00, -6.39800351e-01,\n",
              "        5.65108684e-01, -2.01818621e-01, -2.50157634e+00,  1.33952523e+00,\n",
              "        2.18427738e-01, -1.61667004e-01,  4.53851699e-01, -1.35080970e+00,\n",
              "       -6.49757988e-01,  8.79823382e-01,  8.33471659e-01, -1.27454736e-01,\n",
              "        6.10975566e-02, -4.31397492e-01,  4.58306310e-01, -2.34416117e+00,\n",
              "       -1.87924928e-01, -1.60982764e+00, -1.36588680e+00, -9.01332440e-02,\n",
              "       -2.13538440e+00, -1.45843476e+00,  2.06106754e-01,  3.64444601e-02,\n",
              "       -2.10325482e+00, -1.04588975e+00, -5.80564832e-01, -5.24586469e-01,\n",
              "        8.25537289e-01, -3.88035944e-01,  1.74334675e-01,  1.32582160e+00,\n",
              "       -1.59093211e-01,  1.03452829e-02,  7.75813997e-01,  4.69012341e-01,\n",
              "       -6.24256269e-01,  1.50212609e+00, -7.83152421e-01, -1.56334398e+00,\n",
              "       -4.20834554e-01, -1.34525375e+00,  5.83473234e-02, -1.83991293e+00,\n",
              "       -4.07588138e-02,  1.13472607e+00,  9.40231026e-01, -6.32746927e-01,\n",
              "       -1.84496807e-02, -5.15387755e-01, -4.28758503e-01, -3.95398411e-01,\n",
              "        7.35837271e-01, -1.18694702e+00, -2.62180112e-01,  6.20409018e-01,\n",
              "        5.87514901e-01, -7.97633466e-02,  4.84926132e-01,  3.69293269e-01,\n",
              "       -7.14478882e-01, -1.55110284e+00,  1.41383837e+00, -2.59462429e+00,\n",
              "        4.28080286e-02,  1.35637542e+00,  9.22236707e-01, -8.67270785e-01,\n",
              "       -2.23751124e-01, -3.73052548e-01,  4.71886034e-01, -1.34966227e+00,\n",
              "       -1.42736072e-01,  3.03539971e-01,  8.84850176e-01, -1.40949778e+00,\n",
              "       -4.25500850e-01, -7.18927745e-01, -1.64185438e+00,  5.92228145e-01,\n",
              "       -5.37493005e-01,  8.49649983e-01, -3.48291901e-01, -5.62308347e-03,\n",
              "       -8.08256333e-01, -8.23507968e-02,  1.13586870e+00,  2.72576120e-01,\n",
              "        3.64618405e-01,  1.91404642e-01, -5.38278279e-01,  7.11964725e-01,\n",
              "        8.16388386e-01, -1.67469940e+00, -8.78767112e-01,  4.32425367e-01,\n",
              "       -4.65536235e-01, -7.86978312e-01, -1.71413628e+00,  1.15920911e+00,\n",
              "        2.20997040e+00, -1.91983787e-01, -5.80980903e-01,  6.21257841e-01,\n",
              "       -4.17846106e-01,  1.75990478e-02,  1.40268073e+00, -5.28927920e-01,\n",
              "       -1.36997137e+00,  2.97392881e-01,  1.47207751e+00, -3.93068850e-02,\n",
              "        3.48265736e-01,  6.05470646e-02, -6.28461282e-01,  3.45774501e-01,\n",
              "       -8.71327214e-01,  2.39249627e+00,  4.60892628e-03, -9.62006243e-01,\n",
              "       -1.07179023e+00, -1.18612899e+00,  9.86562455e-01, -8.24366326e-01,\n",
              "        3.10029561e-01,  8.43513089e-01, -2.97577049e+00, -2.68959030e-01,\n",
              "        6.45264872e-01, -2.33940534e-01,  1.76410035e-01, -4.53295457e-01,\n",
              "        1.55282023e-01,  3.94912259e-01,  2.72926277e+00, -1.65459542e+00,\n",
              "       -5.46273046e-02,  1.09493995e+00, -4.63112920e-01,  9.68348622e-02,\n",
              "        2.03946632e+00, -1.86423471e-01, -2.77731928e-01,  1.31416189e+00,\n",
              "       -2.81717064e-01, -1.23267585e+00, -1.05396874e-01,  8.46027413e-01,\n",
              "        1.27618332e+00, -8.93488509e-01,  6.34395049e-01, -1.35840928e+00,\n",
              "       -6.81742784e-01,  1.59899093e+00,  1.32595125e+00,  9.72979583e-01,\n",
              "        6.41117525e-01,  2.44735327e-01, -4.17177717e-01,  9.85218980e-01,\n",
              "       -1.02918695e-02, -2.84882898e-01, -1.30487751e+00,  1.55793690e+00,\n",
              "        3.73645352e-01,  1.10178897e-01, -1.54524437e+00, -6.12759564e-01,\n",
              "       -9.89029395e-01, -2.00415222e+00,  2.16140549e+00,  7.90029786e-01,\n",
              "       -8.88373121e-01, -8.70626053e-01, -3.40774050e-01, -7.74597647e-01,\n",
              "       -1.58826642e+00,  1.04700982e-01,  6.95799192e-02,  1.30869243e+00,\n",
              "        4.19237762e-01, -1.30867891e+00,  2.00113104e+00, -5.52360237e-01,\n",
              "       -3.18247348e-01, -1.48346193e-01,  2.81731869e+00, -9.66071514e-02,\n",
              "       -4.32519286e-01,  1.20912376e-01,  1.25149891e+00, -7.17576020e-01,\n",
              "       -8.48838925e-02,  3.69619956e-01,  1.61387223e+00, -3.97950029e-02,\n",
              "       -3.08760226e-01, -1.79924266e+00, -5.68723743e-01, -1.74092567e+00,\n",
              "       -3.18429793e-01,  7.92865133e-01,  2.96275840e-01, -2.23806788e-01,\n",
              "       -3.40078533e+00, -6.78467389e-01, -6.00248093e-01, -4.24262286e-02,\n",
              "        1.20503254e+00,  1.91637150e-01,  8.64302344e-01,  1.64883634e+00,\n",
              "       -8.99691880e-01,  1.17867707e+00,  3.69089725e-01,  8.21253290e-01,\n",
              "        2.03522935e-01,  5.59718314e-01,  1.37736158e+00,  5.64237063e-01,\n",
              "       -8.18865962e-01, -7.90975199e-01,  9.48496405e-01,  1.74688403e-01,\n",
              "       -8.95458245e-01, -1.29772194e+00, -6.56637094e-01, -8.57480011e-02,\n",
              "       -3.89808757e-01, -2.39773588e-01, -4.14243757e-01, -3.74371803e-01,\n",
              "        7.36582837e-01, -6.07425006e-02, -2.39451117e+00,  1.05487969e+00,\n",
              "        2.47521768e-01, -5.57904725e-01, -1.19931688e+00, -1.41122669e+00,\n",
              "       -1.13482399e+00, -5.26007504e-01,  6.47586281e-01, -4.53144504e-01,\n",
              "       -9.02986524e-01,  5.90839410e-01,  5.74219973e-02,  9.19649591e-01,\n",
              "       -4.61407780e-01,  1.25256018e+00,  8.07614444e-02,  4.58365500e-01,\n",
              "        1.26834427e+00,  4.19977787e-01, -6.89822905e-01, -2.62701660e-01,\n",
              "       -1.55159580e+00,  4.85756837e-01, -3.59805996e-01,  3.89229453e-02,\n",
              "       -3.08536939e-01, -1.73731321e+00,  1.09248180e-01,  8.92864424e-01,\n",
              "        3.70090516e-01, -5.44114059e-01,  1.97600507e+00, -8.27211840e-01,\n",
              "       -3.33492766e-02, -6.24069510e-01, -3.57273127e-01,  9.91168136e-01,\n",
              "        2.83659863e+00,  6.52983891e-01,  1.61441976e+00, -6.35830584e-01,\n",
              "        5.58365881e-02,  6.21267294e-01,  7.90770745e-01,  1.48368054e+00,\n",
              "        7.35470641e-02, -3.21767693e-01, -4.66347251e-01, -6.68340364e-01,\n",
              "        7.24857129e-01,  7.79139010e-01, -2.27235226e-01,  7.46806824e-02,\n",
              "        7.24716477e-01,  4.90647144e-01,  1.55923451e-02, -4.69483569e-01,\n",
              "        6.75777111e-01, -1.57301350e+00,  3.47457890e-01,  1.82789873e+00,\n",
              "        3.58698121e-01, -4.23045506e-01, -4.79015493e-01, -1.55266873e-01,\n",
              "       -9.26289662e-01, -1.68393861e+00,  4.38246090e-01,  1.61252126e+00,\n",
              "       -1.35892859e+00, -8.68158139e-01,  1.29563195e+00, -2.44722181e-01,\n",
              "        3.99437819e-01,  8.03531721e-01,  1.25352791e+00,  6.48643214e-01,\n",
              "        4.07439681e-01, -1.79808915e+00, -6.75683820e-01,  9.03919578e-01,\n",
              "       -8.01910821e-01, -4.61838004e-02,  4.48541345e-01,  1.97246654e+00,\n",
              "        2.64321946e-01,  2.33565996e+00,  3.79456991e-01,  3.92685163e-01,\n",
              "       -1.27686255e+00,  3.00886415e-01, -8.59067170e-01,  2.70284029e-01,\n",
              "       -6.66679000e-01,  9.72801671e-01, -6.30255122e-01,  3.71121054e-01,\n",
              "       -3.41200377e-01, -2.76245027e-01,  5.83170988e-01,  4.77412464e-01,\n",
              "       -8.26756996e-01,  6.01443381e-01, -1.07250008e+00, -3.87494517e-01,\n",
              "       -3.03886481e-01,  5.20953469e-01, -9.80969787e-01, -2.93214977e-02,\n",
              "        6.22842602e-02,  7.78552019e-01, -6.18186575e-01, -2.19716716e-01,\n",
              "        9.30435158e-01,  2.07339356e-01,  2.98785031e-01,  2.61246390e-01,\n",
              "       -1.71008104e-01, -1.77340237e+00,  1.24412738e-01,  4.71109746e-01,\n",
              "        5.76230563e-01, -2.54617149e-01,  6.80068078e-01,  2.57151195e+00,\n",
              "        1.22089853e+00,  9.36921882e-02, -6.97411564e-01, -3.77879658e-01,\n",
              "        5.79527629e-01,  2.69115110e-01, -3.36327080e-01, -1.20420075e+00,\n",
              "        4.51682840e-01, -1.23008287e+00, -1.24910669e+00, -3.94454273e-02,\n",
              "       -1.40587606e+00, -2.04431880e+00,  1.21473324e-01, -7.34165313e-01,\n",
              "       -2.12830284e+00,  2.13501582e-01, -4.37745284e-01,  1.82819239e+00,\n",
              "        7.61543079e-02,  1.05814126e+00,  2.11491920e+00, -1.34722426e+00,\n",
              "        4.47334108e-01, -1.32904471e+00,  1.81830508e-01,  6.90825749e-01,\n",
              "       -1.04430960e+00, -3.69182004e-01, -1.82897826e-01, -5.35030478e-01,\n",
              "       -8.11399753e-01, -6.28480241e-01,  2.57433260e+00,  3.67840834e-01,\n",
              "       -1.34972568e+00, -8.85656819e-01,  2.08604851e-02,  1.49660163e+00,\n",
              "        7.05078348e-01, -2.14221568e-02, -1.16289813e+00,  6.45852461e-01,\n",
              "        4.14862520e-01,  7.85912969e-01, -7.52583722e-01, -3.54459987e-01,\n",
              "       -1.29299278e+00,  3.88675106e-01,  7.07880576e-01, -7.60267987e-01,\n",
              "        1.39178108e+00,  9.07527947e-01, -2.91413673e-01, -9.69052217e-01,\n",
              "        1.78786319e-01, -7.44604449e-01, -2.68505379e+00,  8.80076557e-01,\n",
              "        7.41690116e-01,  1.40789000e+00, -5.64938809e-01,  7.57068617e-01,\n",
              "       -1.66626364e+00,  2.03854874e+00,  1.31339666e+00, -6.96884036e-01,\n",
              "        2.68933616e+00, -7.45561590e-01, -2.25026975e+00, -3.61679754e-01])"
            ]
          },
          "metadata": {},
          "execution_count": 17
        }
      ]
    },
    {
      "cell_type": "markdown",
      "source": [
        "###Q19: Compare two datasets using their standard deviations."
      ],
      "metadata": {
        "id": "zP-vSgM0M69G"
      }
    },
    {
      "cell_type": "code",
      "source": [
        "data1 = np.random.normal(0, 1, 1000)\n",
        "data2 = np.random.normal(0, 2, 1000)\n",
        "\n",
        "std_dev_data1 = np.std(data1)\n",
        "std_dev_data2 = np.std(data2)\n",
        "\n",
        "std_dev_data1, std_dev_data2"
      ],
      "metadata": {
        "colab": {
          "base_uri": "https://localhost:8080/"
        },
        "id": "tIna2Sn_M_mG",
        "outputId": "cfa3b02f-fac0-4d0d-b305-f1d11ac1b529"
      },
      "execution_count": 18,
      "outputs": [
        {
          "output_type": "execute_result",
          "data": {
            "text/plain": [
              "(np.float64(1.026179366986068), np.float64(1.9641829861369118))"
            ]
          },
          "metadata": {},
          "execution_count": 18
        }
      ]
    },
    {
      "cell_type": "markdown",
      "source": [
        "###Q20: Write a Python program to visualize covariance using a heatmap."
      ],
      "metadata": {
        "id": "Lqv_afr_NFtf"
      }
    },
    {
      "cell_type": "code",
      "source": [
        "import seaborn as sns\n",
        "\n",
        "cov_matrix = np.cov(data1, data2)\n",
        "sns.heatmap(cov_matrix, annot=True)\n",
        "plt.title('Covariance Heatmap')\n",
        "plt.show()"
      ],
      "metadata": {
        "colab": {
          "base_uri": "https://localhost:8080/",
          "height": 452
        },
        "id": "YzFd_7RNNDg_",
        "outputId": "9f854295-ba24-4967-f627-259441e3c335"
      },
      "execution_count": 19,
      "outputs": [
        {
          "output_type": "display_data",
          "data": {
            "text/plain": [
              "<Figure size 640x480 with 2 Axes>"
            ],
            "image/png": "[encoded data removed]"
          },
          "metadata": {}
        }
      ]
    },
    {
      "cell_type": "markdown",
      "source": [
        "###Q21: Use seaborn to create a correlation matrix for a dataset."
      ],
      "metadata": {
        "id": "ch8ZiSEWNORI"
      }
    },
    {
      "cell_type": "code",
      "source": [
        "corr_matrix = np.corrcoef(data1, data2)\n",
        "sns.heatmap(corr_matrix, annot=True)\n",
        "plt.title('Correlation Matrix')\n",
        "plt.show()"
      ],
      "metadata": {
        "colab": {
          "base_uri": "https://localhost:8080/",
          "height": 452
        },
        "id": "d0M0GrqhNNzY",
        "outputId": "c03d75fe-fb6f-4ab3-e6a9-3cae7604523f"
      },
      "execution_count": 20,
      "outputs": [
        {
          "output_type": "display_data",
          "data": {
            "text/plain": [
              "<Figure size 640x480 with 2 Axes>"
            ],
            "image/png": "[encoded data removed]"
          },
          "metadata": {}
        }
      ]
    },
    {
      "cell_type": "markdown",
      "source": [
        "###Q22: Generate a dataset and implement both variance and standard deviation computations."
      ],
      "metadata": {
        "id": "MeaalmI1NUbI"
      }
    },
    {
      "cell_type": "code",
      "source": [
        "new_data = np.random.normal(0, 1, 1000)\n",
        "variance = np.var(new_data)\n",
        "std_dev = np.std(new_data)\n",
        "\n",
        "variance, std_dev"
      ],
      "metadata": {
        "colab": {
          "base_uri": "https://localhost:8080/"
        },
        "id": "ZaEyLE5dNWgL",
        "outputId": "bfab7110-539f-403d-91b3-a363a09f3bc0"
      },
      "execution_count": 21,
      "outputs": [
        {
          "output_type": "execute_result",
          "data": {
            "text/plain": [
              "(np.float64(1.023287002111281), np.float64(1.0115764934552804))"
            ]
          },
          "metadata": {},
          "execution_count": 21
        }
      ]
    },
    {
      "cell_type": "markdown",
      "source": [
        "###Q23: Visualize skewness and kurtosis using Python libraries."
      ],
      "metadata": {
        "id": "D_HkE_BENZtK"
      }
    },
    {
      "cell_type": "code",
      "source": [
        "fig, ax = plt.subplots(1, 2, figsize=(12, 6))\n",
        "sns.histplot(new_data, kde=True, ax=ax[0])\n",
        "ax[0].set_title('Histogram')\n",
        "ax[1].set_title('Boxplot')\n",
        "sns.boxplot(x=new_data, ax=ax[1])\n",
        "plt.show()"
      ],
      "metadata": {
        "colab": {
          "base_uri": "https://localhost:8080/",
          "height": 545
        },
        "id": "rfV6xYh6NdDz",
        "outputId": "c88ef232-372a-462c-c16c-61670b5f501c"
      },
      "execution_count": 22,
      "outputs": [
        {
          "output_type": "display_data",
          "data": {
            "text/plain": [
              "<Figure size 1200x600 with 2 Axes>"
            ],
            "image/png": "[encoded data removed]"
          },
          "metadata": {}
        }
      ]
    },
    {
      "cell_type": "markdown",
      "source": [
        "###Q24: Implement the Pearson and Spearman correlation coefficients"
      ],
      "metadata": {
        "id": "Iq10d9zFNinZ"
      }
    },
    {
      "cell_type": "code",
      "source": [
        "from scipy import stats"
      ],
      "metadata": {
        "id": "gTP8Zbo1Ne4o"
      },
      "execution_count": 26,
      "outputs": []
    },
    {
      "cell_type": "code",
      "source": [
        "pearson_corr = stats.pearsonr(x, y)\n",
        "spearman_corr = stats.spearmanr(x, y)\n",
        "\n",
        "pearson_corr, spearman_corr"
      ],
      "metadata": {
        "colab": {
          "base_uri": "https://localhost:8080/"
        },
        "id": "VHuXnvVyZgPV",
        "outputId": "62d2188d-a8df-4d24-e329-16f8e2f8ef78"
      },
      "execution_count": 27,
      "outputs": [
        {
          "output_type": "execute_result",
          "data": {
            "text/plain": [
              "(PearsonRResult(statistic=np.float64(0.9999999999999998), pvalue=np.float64(1.3415758552508146e-08)),\n",
              " SignificanceResult(statistic=np.float64(1.0), pvalue=np.float64(0.0)))"
            ]
          },
          "metadata": {},
          "execution_count": 27
        }
      ]
    },
    {
      "cell_type": "code",
      "source": [],
      "metadata": {
        "id": "NV4uhGynZ2cE"
      },
      "execution_count": null,
      "outputs": []
    }
  ]
}