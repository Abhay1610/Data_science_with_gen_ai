{
  "nbformat": 4,
  "nbformat_minor": 0,
  "metadata": {
    "colab": {
      "provenance": []
    },
    "kernelspec": {
      "name": "python3",
      "display_name": "Python 3"
    },
    "language_info": {
      "name": "python"
    }
  },
  "cells": [
    {
      "cell_type": "markdown",
      "source": [
        "#Data Types and Structures Questions"
      ],
      "metadata": {
        "id": "aFHRsoberQkc"
      }
    },
    {
      "cell_type": "markdown",
      "source": [
        "##Theory Based Question"
      ],
      "metadata": {
        "id": "e__pTOhPrP_y"
      }
    },
    {
      "cell_type": "markdown",
      "source": [
        "1) What are data structures, and why are they important?"
      ],
      "metadata": {
        "id": "QBId--Rcr7fr"
      }
    },
    {
      "cell_type": "markdown",
      "source": [
        "Data structures are ways to organize and store data efficiently, enabling effective access and modification. They are crucial for designing efficient algorithms and managing large amounts of information in computer programs. Choosing the right structure impacts performance significantly. They provide a blueprint for how data is handled.\n"
      ],
      "metadata": {
        "id": "GnQqNVX4r7cT"
      }
    },
    {
      "cell_type": "markdown",
      "source": [
        "2) Explain the difference between mutable and immutable data types with examples."
      ],
      "metadata": {
        "id": "o8sbpBW8r7Zo"
      }
    },
    {
      "cell_type": "markdown",
      "source": [
        "Mutable data types can be changed after creation, like lists ([1, 2]) where elements can be added or removed. Immutable data types, such as strings (\"hello\") and tuples ((1, 2)), cannot be altered once defined; any operation creates a new object. This distinction affects how data is handled and shared in memory. Understanding this prevents unexpected side effects."
      ],
      "metadata": {
        "id": "Vq-foiyIr7XF"
      }
    },
    {
      "cell_type": "markdown",
      "source": [
        "3) What are the main differences between lists and tuples in Python?"
      ],
      "metadata": {
        "id": "M4Y_V3Cyr7Uv"
      }
    },
    {
      "cell_type": "markdown",
      "source": [
        "Lists are mutable sequences, typically used for collections of items that might need modification. Tuples are immutable sequences, often employed for fixed collections or representing records. Lists use square brackets [], while tuples use parentheses (). Due to their immutability, tuples can sometimes be more efficient and are hashable. Mutability is the core differentiating factor."
      ],
      "metadata": {
        "id": "r1IP6gyLr7SM"
      }
    },
    {
      "cell_type": "markdown",
      "source": [
        "4) Describe how dictionaries store data."
      ],
      "metadata": {
        "id": "jS0X_Ltir7Ph"
      }
    },
    {
      "cell_type": "markdown",
      "source": [
        "Dictionaries store data as key-value pairs, where each unique key maps to a specific value. This structure allows for efficient retrieval of values based on their associated keys. The keys must be immutable, ensuring their hashability. Internally, they often use hash tables for quick lookups. This key-based access is a fundamental characteristic."
      ],
      "metadata": {
        "id": "jwSpqz4hr7Mg"
      }
    },
    {
      "cell_type": "markdown",
      "source": [
        "5) Why might you use a set instead of a list in Python?"
      ],
      "metadata": {
        "id": "RC0avwI1r7IS"
      }
    },
    {
      "cell_type": "markdown",
      "source": [
        "You would use a set when you need to store a collection of unique elements and order is not important. Sets automatically handle duplicate entries, ensuring that each item appears only once. They also provide efficient membership testing and set operations like union and intersection. For uniqueness and set operations, they are more suitable than lists."
      ],
      "metadata": {
        "id": "cmsadK0jr7Eu"
      }
    },
    {
      "cell_type": "markdown",
      "source": [
        "6) What is a string in Python, and how is it different from a list?"
      ],
      "metadata": {
        "id": "8EJ2zByAr7CC"
      }
    },
    {
      "cell_type": "markdown",
      "source": [
        "A string in Python is an immutable sequence of characters used to represent text. Unlike lists, which can contain elements of various data types and are mutable, strings are specifically for textual data and cannot be changed after creation. While both are sequences and support indexing, their purpose and mutability differ significantly. Strings are specialized for text manipulation.\n",
        "\n"
      ],
      "metadata": {
        "id": "PCBJDau5r6qC"
      }
    },
    {
      "cell_type": "markdown",
      "source": [
        "7) How do tuples ensure data integrity in Python?"
      ],
      "metadata": {
        "id": "SDBwSh9eHK2f"
      }
    },
    {
      "cell_type": "markdown",
      "source": [
        "Tuples ensure data integrity through their immutability. Once a tuple is created, its elements cannot be modified, added, or removed. This prevents accidental changes to the data, making them suitable for representing fixed collections or data that should not be altered. This read-only nature provides a level of data protection. They are reliable for constant data."
      ],
      "metadata": {
        "id": "zmQTwYL_HKzW"
      }
    },
    {
      "cell_type": "markdown",
      "source": [
        "8) What is a hash table, and how does it relate to dictionaries in Python?"
      ],
      "metadata": {
        "id": "9cVBnd-OHKw2"
      }
    },
    {
      "cell_type": "markdown",
      "source": [
        "A hash table is a data structure that uses a hash function to map keys to indices in an array, allowing for fast average-case time complexity for operations like insertion, deletion, and lookup. Dictionaries in Python are typically implemented using hash tables. The keys of the dictionary are hashed to determine where their corresponding values are stored, enabling efficient data retrieval. This underlying structure is key to dictionary performance."
      ],
      "metadata": {
        "id": "Tl3uxs5lHKuU"
      }
    },
    {
      "cell_type": "markdown",
      "source": [
        "9) Can lists contain different data types in Python?"
      ],
      "metadata": {
        "id": "eKMx6JG2HKsG"
      }
    },
    {
      "cell_type": "markdown",
      "source": [
        "Yes, lists in Python are highly flexible and can contain elements of different data types within the same list. For example, a list can hold integers, strings, booleans, and even other lists. This dynamic typing allows for versatile data storage. However, it's important to manage these mixed types carefully in your code. Python's lists are heterogeneous."
      ],
      "metadata": {
        "id": "ANcBE4WaHKpd"
      }
    },
    {
      "cell_type": "markdown",
      "source": [
        "10) Explain why strings are immutable in Python?"
      ],
      "metadata": {
        "id": "IeFIfar9HKm4"
      }
    },
    {
      "cell_type": "markdown",
      "source": [
        "Strings in Python are immutable primarily for efficiency and memory management. Immutability allows Python to optimize memory allocation for strings and makes them suitable for use as keys in dictionaries. If strings were mutable, it could lead to unexpected side effects and complexities in managing string references. This design choice ensures consistency and performance."
      ],
      "metadata": {
        "id": "rRwhJHDFHKkd"
      }
    },
    {
      "cell_type": "markdown",
      "source": [
        "11) What advantages do dictionaries offer over lists for certain tasks?"
      ],
      "metadata": {
        "id": "gObNlMl_HKiM"
      }
    },
    {
      "cell_type": "markdown",
      "source": [
        "Dictionaries offer significant advantages over lists when you need to quickly retrieve values based on a specific key. Looking up a value in a dictionary by its key has an average time complexity of O(1), whereas searching for an element in a list typically takes O(n) time. For tasks involving frequent lookups using unique identifiers, dictionaries are much more efficient. Key-based access is their primary strength."
      ],
      "metadata": {
        "id": "veFgZUncHKfi"
      }
    },
    {
      "cell_type": "markdown",
      "source": [
        "12) Describe a scenario where using a tuple would be preferable over a list."
      ],
      "metadata": {
        "id": "tQEUgMeXHKc3"
      }
    },
    {
      "cell_type": "markdown",
      "source": [
        "Using a tuple would be preferable when you need to represent a fixed collection of items that should not be changed, such as coordinates (x, y), RGB color values (r, g, b), or database records. Their immutability ensures that the data remains consistent throughout the program. They can also be used as keys in dictionaries, unlike lists. For fixed, unchangeable data, tuples are ideal."
      ],
      "metadata": {
        "id": "rLOR6Tm7HKaa"
      }
    },
    {
      "cell_type": "markdown",
      "source": [
        "13) How do sets handle duplicate values in Python?"
      ],
      "metadata": {
        "id": "aXR5VLKLHKYB"
      }
    },
    {
      "cell_type": "markdown",
      "source": [
        "Sets in Python automatically handle duplicate values by only storing unique elements. When you try to add a value that already exists in a set, it is simply ignored, and the set remains unchanged. This inherent uniqueness makes sets useful for tasks like removing duplicates from a collection or performing mathematical set operations. They enforce uniqueness among their elements."
      ],
      "metadata": {
        "id": "U18u9xRqHKVV"
      }
    },
    {
      "cell_type": "markdown",
      "source": [
        "14) How does the “in” keyword work differently for lists and dictionaries?"
      ],
      "metadata": {
        "id": "XFzZ24VRHKSv"
      }
    },
    {
      "cell_type": "markdown",
      "source": [
        "For lists, the in keyword checks if a specific value exists as an element within the list, which can take O(n) time in the worst case as it might iterate through the entire list. For dictionaries, the in keyword checks if a specific key exists within the dictionary's keys, which is much faster, typically O(1) on average due to the underlying hash table implementation. It's about value presence in lists versus key presence in dictionaries."
      ],
      "metadata": {
        "id": "TmRp2UWBHKQS"
      }
    },
    {
      "cell_type": "markdown",
      "source": [
        "15) Can you modify the elements of a tuple? Explain why or why not?"
      ],
      "metadata": {
        "id": "iMv332YZHKNu"
      }
    },
    {
      "cell_type": "markdown",
      "source": [
        "No, you cannot directly modify the elements of a tuple in Python because tuples are immutable. Once a tuple is created, its contents are fixed, and you cannot change, add, or remove individual items. This immutability is a fundamental property of tuples, ensuring data integrity and making them suitable for representing fixed collections. They are designed for unchanging data."
      ],
      "metadata": {
        "id": "sSi3uh03HKLL"
      }
    },
    {
      "cell_type": "markdown",
      "source": [
        "16) What is a nested dictionary, and give an example of its use case?"
      ],
      "metadata": {
        "id": "zJhm4200HKIL"
      }
    },
    {
      "cell_type": "markdown",
      "source": [
        "A nested dictionary is a dictionary where the values associated with keys are themselves dictionaries. This allows for representing more complex, hierarchical data structures. An example use case is storing information about students, where each student's key maps to a dictionary containing their name, age, and a further nested dictionary for their grades in different subjects. It's for organizing complex, related data."
      ],
      "metadata": {
        "id": "Y272zAahHJ7e"
      }
    },
    {
      "cell_type": "markdown",
      "source": [
        "17) Describe the time complexity of accessing elements in a dictionary."
      ],
      "metadata": {
        "id": "3vhmOP2IJYS-"
      }
    },
    {
      "cell_type": "markdown",
      "source": [
        "The average-case time complexity for accessing elements (values) in a dictionary using their keys is O(1), which means it takes constant time regardless of the size of the dictionary. This efficiency is due to the underlying hash table implementation. However, in the worst-case scenario (e.g., hash collisions), the time complexity can degrade to O(n), where n is the number of items in the dictionary. Generally, lookups are very fast."
      ],
      "metadata": {
        "id": "B1JC3ST7JbV3"
      }
    },
    {
      "cell_type": "markdown",
      "source": [
        "18) In what situations are lists preferred over dictionaries?"
      ],
      "metadata": {
        "id": "JqvKqjUmJbSS"
      }
    },
    {
      "cell_type": "markdown",
      "source": [
        "Lists are preferred over dictionaries when the order of elements matters, and you need to maintain a sequence. They are also suitable when you access elements primarily by their index (position) rather than by a unique key. If you have a collection of items where duplicates are allowed and the order is significant, lists are the more appropriate choice. Order and indexed access are key advantages."
      ],
      "metadata": {
        "id": "lGX0JVgrJbO9"
      }
    },
    {
      "cell_type": "markdown",
      "source": [
        "19) Why are dictionaries considered unordered, and how does that affect data retrieval?"
      ],
      "metadata": {
        "id": "AZnu1gkLJbLz"
      }
    },
    {
      "cell_type": "markdown",
      "source": [
        "Prior to Python 3.7, dictionaries were generally considered unordered, meaning the order in which items were inserted was not guaranteed to be preserved. While modern Python (3.7+) retains insertion order, the primary method of data retrieval is through keys, not by a fixed position. This key-based access makes the concept of a fixed order less relevant for typical dictionary operations. Key-based retrieval is the focus."
      ],
      "metadata": {
        "id": "jd23WSZyJbIl"
      }
    },
    {
      "cell_type": "markdown",
      "source": [
        "20) Explain the difference between a list and a dictionary in terms of data retrieval."
      ],
      "metadata": {
        "id": "uPI6gXdCJbCB"
      }
    },
    {
      "cell_type": "markdown",
      "source": [
        "Data retrieval in a list is primarily done by accessing elements using their numerical index (position), which requires knowing the element's location. In contrast, data retrieval in a dictionary is done by using a unique key associated with the value you want to access. This key-based lookup in dictionaries is generally much faster on average than searching through a list by index or value. Lists use position; dictionaries use keys."
      ],
      "metadata": {
        "id": "a--AfzncJa5f"
      }
    },
    {
      "cell_type": "markdown",
      "source": [
        "##Practical Question Answer"
      ],
      "metadata": {
        "id": "JpwwFwraJavv"
      }
    },
    {
      "cell_type": "markdown",
      "source": [
        "1. Write a code to create a string with your name and print it."
      ],
      "metadata": {
        "id": "SajbH_PBJZ6P"
      }
    },
    {
      "cell_type": "code",
      "source": [
        "my_name = \"Abhay\"\n",
        "print(my_name)"
      ],
      "metadata": {
        "colab": {
          "base_uri": "https://localhost:8080/"
        },
        "id": "T4TYke3hHGBQ",
        "outputId": "14c6fa3f-b5c5-47e3-ccd8-8df0489c112d"
      },
      "execution_count": 1,
      "outputs": [
        {
          "output_type": "stream",
          "name": "stdout",
          "text": [
            "Abhay\n"
          ]
        }
      ]
    },
    {
      "cell_type": "markdown",
      "source": [
        "2. Write a code to find the length of the string \"Hello World\"."
      ],
      "metadata": {
        "id": "bcXpHWz-7MoH"
      }
    },
    {
      "cell_type": "code",
      "source": [
        "text = \"Hello World\"\n",
        "length = len(text)\n",
        "print(length)"
      ],
      "metadata": {
        "colab": {
          "base_uri": "https://localhost:8080/"
        },
        "id": "fAluwR2f7KPK",
        "outputId": "a6c54fac-3a94-4cd0-ee9d-d94dcf6b6a1f"
      },
      "execution_count": 2,
      "outputs": [
        {
          "output_type": "stream",
          "name": "stdout",
          "text": [
            "11\n"
          ]
        }
      ]
    },
    {
      "cell_type": "markdown",
      "source": [
        "3. Write a code to slice the first 3 characters from the string \"Python Programming\"."
      ],
      "metadata": {
        "id": "5PjEb4tO7aFM"
      }
    },
    {
      "cell_type": "code",
      "source": [
        "text = \"Python Programming\"\n",
        "sliced_text = text[:3]\n",
        "print(sliced_text)"
      ],
      "metadata": {
        "colab": {
          "base_uri": "https://localhost:8080/"
        },
        "id": "_huIu-ct7YQf",
        "outputId": "4cbc6eec-266e-4adf-b065-26dc45e1ad02"
      },
      "execution_count": 3,
      "outputs": [
        {
          "output_type": "stream",
          "name": "stdout",
          "text": [
            "Pyt\n"
          ]
        }
      ]
    },
    {
      "cell_type": "markdown",
      "source": [
        "4. Write a code to convert the string \"hello\" to uppercase."
      ],
      "metadata": {
        "id": "UiepS8-i7vUW"
      }
    },
    {
      "cell_type": "code",
      "source": [
        "text = \"hello\"\n",
        "uppercase_text = text.upper()\n",
        "print(uppercase_text)"
      ],
      "metadata": {
        "colab": {
          "base_uri": "https://localhost:8080/"
        },
        "id": "87NJE2E27tU7",
        "outputId": "300fbfb2-9876-4138-e456-5e4567dea847"
      },
      "execution_count": 4,
      "outputs": [
        {
          "output_type": "stream",
          "name": "stdout",
          "text": [
            "HELLO\n"
          ]
        }
      ]
    },
    {
      "cell_type": "markdown",
      "source": [
        "5. Write a code to replace the word \"apple\" with \"orange\" in the string \"I like apple\"."
      ],
      "metadata": {
        "id": "_3WlB1lK8AtC"
      }
    },
    {
      "cell_type": "code",
      "source": [
        "text = \"I like apple\"\n",
        "replaced_text = text.replace(\"apple\", \"orange\")\n",
        "print(replaced_text)"
      ],
      "metadata": {
        "colab": {
          "base_uri": "https://localhost:8080/"
        },
        "id": "YpPeG_cU7_im",
        "outputId": "d07f9b66-a255-4f8f-f491-6cf8a5402aec"
      },
      "execution_count": 5,
      "outputs": [
        {
          "output_type": "stream",
          "name": "stdout",
          "text": [
            "I like orange\n"
          ]
        }
      ]
    },
    {
      "cell_type": "markdown",
      "source": [
        "6. Write a code to create a list with numbers 1 to 5 and print it."
      ],
      "metadata": {
        "id": "mGUttcyw8Z0E"
      }
    },
    {
      "cell_type": "code",
      "source": [
        "my_list = [1,2,3,4,5]\n",
        "print(my_list)"
      ],
      "metadata": {
        "colab": {
          "base_uri": "https://localhost:8080/"
        },
        "id": "P3zbX4wp8Sj6",
        "outputId": "60988961-7f3e-4a2b-8254-b2ffee3ee852"
      },
      "execution_count": 6,
      "outputs": [
        {
          "output_type": "stream",
          "name": "stdout",
          "text": [
            "[1, 2, 3, 4, 5]\n"
          ]
        }
      ]
    },
    {
      "cell_type": "markdown",
      "source": [
        "7. Write a code to append the number 10 to the list [1, 2, 3, 4]."
      ],
      "metadata": {
        "id": "m3kLac8V8mB3"
      }
    },
    {
      "cell_type": "code",
      "source": [
        "my_list = [1, 2, 3, 4]\n",
        "my_list.append(10)\n",
        "print(my_list)"
      ],
      "metadata": {
        "colab": {
          "base_uri": "https://localhost:8080/"
        },
        "id": "IanavkYt8kXE",
        "outputId": "cb49cdf3-da99-4d6a-f388-a0f0ff134a8a"
      },
      "execution_count": 7,
      "outputs": [
        {
          "output_type": "stream",
          "name": "stdout",
          "text": [
            "[1, 2, 3, 4, 10]\n"
          ]
        }
      ]
    },
    {
      "cell_type": "markdown",
      "source": [
        "8. Write a code to remove the number 3 from the list [1, 2, 3, 4, 5]."
      ],
      "metadata": {
        "id": "foTXn9_d8vvd"
      }
    },
    {
      "cell_type": "code",
      "source": [
        "my_list = [1, 2, 3, 4, 5]\n",
        "my_list.remove(3)\n",
        "print(my_list)"
      ],
      "metadata": {
        "colab": {
          "base_uri": "https://localhost:8080/"
        },
        "id": "GMjv-9PO8t0o",
        "outputId": "324b9dda-20ef-40fb-9827-a87e83e86e30"
      },
      "execution_count": 8,
      "outputs": [
        {
          "output_type": "stream",
          "name": "stdout",
          "text": [
            "[1, 2, 4, 5]\n"
          ]
        }
      ]
    },
    {
      "cell_type": "markdown",
      "source": [
        "9. Write a code to access the second element in the list ['a', 'b', 'c', 'd']."
      ],
      "metadata": {
        "id": "V-vX1uC-8z0R"
      }
    },
    {
      "cell_type": "code",
      "source": [
        "my_list = ['a', 'b', 'c', 'd']\n",
        "second_element = my_list[1]\n",
        "print(second_element)"
      ],
      "metadata": {
        "colab": {
          "base_uri": "https://localhost:8080/"
        },
        "id": "1v_toMBG8zJy",
        "outputId": "ea6946bb-666a-4ee8-f85f-c5bddbda6e86"
      },
      "execution_count": 9,
      "outputs": [
        {
          "output_type": "stream",
          "name": "stdout",
          "text": [
            "b\n"
          ]
        }
      ]
    },
    {
      "cell_type": "markdown",
      "source": [
        "10. Write a code to reverse the list [10, 20, 30, 40, 50]."
      ],
      "metadata": {
        "id": "VtCx3h9W8821"
      }
    },
    {
      "cell_type": "code",
      "source": [
        "my_list = [10, 20, 30, 40, 50]\n",
        "my_list.reverse()\n",
        "print(my_list)"
      ],
      "metadata": {
        "colab": {
          "base_uri": "https://localhost:8080/"
        },
        "id": "E3KaYRt985sx",
        "outputId": "4247537b-7b70-44a8-b506-12d1078ceef0"
      },
      "execution_count": 10,
      "outputs": [
        {
          "output_type": "stream",
          "name": "stdout",
          "text": [
            "[50, 40, 30, 20, 10]\n"
          ]
        }
      ]
    },
    {
      "cell_type": "markdown",
      "source": [
        "11. Write a code to create a tuple with the elements 100, 200, 300 and print it."
      ],
      "metadata": {
        "id": "CmxGXJg09Cjn"
      }
    },
    {
      "cell_type": "code",
      "source": [
        "my_tuple = (100, 200, 300)\n",
        "print(my_tuple)"
      ],
      "metadata": {
        "colab": {
          "base_uri": "https://localhost:8080/"
        },
        "id": "cvBtOZcd9BoD",
        "outputId": "9ab4fdd0-fa27-4094-8e58-a555de8f387a"
      },
      "execution_count": 11,
      "outputs": [
        {
          "output_type": "stream",
          "name": "stdout",
          "text": [
            "(100, 200, 300)\n"
          ]
        }
      ]
    },
    {
      "cell_type": "markdown",
      "source": [
        "12. Write a code to access the second-to-last element of the tuple ('red', 'green', 'blue', 'yellow')."
      ],
      "metadata": {
        "id": "qWrAXlKk9LjQ"
      }
    },
    {
      "cell_type": "code",
      "source": [
        "my_tuple = ('red', 'green', 'blue', 'yellow')\n",
        "second_to_last = my_tuple[-2]\n",
        "print(second_to_last)"
      ],
      "metadata": {
        "colab": {
          "base_uri": "https://localhost:8080/"
        },
        "id": "ZxjaFOke9Kej",
        "outputId": "2ae805b9-08e2-48b3-caf9-f41d62df1fec"
      },
      "execution_count": 12,
      "outputs": [
        {
          "output_type": "stream",
          "name": "stdout",
          "text": [
            "blue\n"
          ]
        }
      ]
    },
    {
      "cell_type": "markdown",
      "source": [
        "13. Write a code to find the minimum number in the tuple (10, 20, 5, 15)."
      ],
      "metadata": {
        "id": "AS8u1Fm_9UPR"
      }
    },
    {
      "cell_type": "code",
      "source": [
        "my_tuple = (10, 20, 5, 15)\n",
        "minimum = min(my_tuple)\n",
        "print(minimum)"
      ],
      "metadata": {
        "colab": {
          "base_uri": "https://localhost:8080/"
        },
        "id": "nfkLaNhZ9SGe",
        "outputId": "45287475-702e-4988-ad21-13ff81350e2c"
      },
      "execution_count": 13,
      "outputs": [
        {
          "output_type": "stream",
          "name": "stdout",
          "text": [
            "5\n"
          ]
        }
      ]
    },
    {
      "cell_type": "markdown",
      "source": [
        "14. Write a code to find the index of the element \"cat\" in the tuple ('dog', 'cat', 'rabbit')."
      ],
      "metadata": {
        "id": "RspSsLxE9chR"
      }
    },
    {
      "cell_type": "code",
      "source": [
        "my_tuple = ('dog', 'cat', 'rabbit')\n",
        "index_of_cat = my_tuple.index('cat')\n",
        "print(index_of_cat)"
      ],
      "metadata": {
        "colab": {
          "base_uri": "https://localhost:8080/"
        },
        "id": "tdjN6B6v9X2W",
        "outputId": "578413a4-2120-4cbc-c79c-8e35199dc8df"
      },
      "execution_count": 14,
      "outputs": [
        {
          "output_type": "stream",
          "name": "stdout",
          "text": [
            "1\n"
          ]
        }
      ]
    },
    {
      "cell_type": "markdown",
      "source": [
        "15. Write a code to create a tuple containing three different fruits and check if \"kiwi\" is in it."
      ],
      "metadata": {
        "id": "OBHYE4BW9obS"
      }
    },
    {
      "cell_type": "code",
      "source": [
        "fruits = ('apple', 'kiwi', 'orange')\n",
        "is_kiwi_present = 'kiwi' in fruits\n",
        "print(is_kiwi_present)"
      ],
      "metadata": {
        "colab": {
          "base_uri": "https://localhost:8080/"
        },
        "id": "XsJd9r2q9l89",
        "outputId": "c7b82281-c075-4ad8-8dc9-12219ae52db3"
      },
      "execution_count": 16,
      "outputs": [
        {
          "output_type": "stream",
          "name": "stdout",
          "text": [
            "True\n"
          ]
        }
      ]
    },
    {
      "cell_type": "markdown",
      "source": [
        "16. Write a code to create a set with the elements 'a', 'b', 'c' and print it."
      ],
      "metadata": {
        "id": "wy_YRoJQ9xIQ"
      }
    },
    {
      "cell_type": "code",
      "source": [
        "my_set = {'a', 'b', 'c'}\n",
        "print(my_set)"
      ],
      "metadata": {
        "colab": {
          "base_uri": "https://localhost:8080/"
        },
        "id": "mXql0E_V9tqi",
        "outputId": "34b7c2b2-d502-49ac-d579-b6c0815b7ce8"
      },
      "execution_count": 17,
      "outputs": [
        {
          "output_type": "stream",
          "name": "stdout",
          "text": [
            "{'b', 'c', 'a'}\n"
          ]
        }
      ]
    },
    {
      "cell_type": "markdown",
      "source": [
        "17. Write a code to clear all elements from the set {1, 2, 3, 4, 5}."
      ],
      "metadata": {
        "id": "2dONZlRB95fp"
      }
    },
    {
      "cell_type": "code",
      "source": [
        "my_set = {1, 2, 3, 4, 5}\n",
        "my_set.clear()\n",
        "print(my_set)"
      ],
      "metadata": {
        "colab": {
          "base_uri": "https://localhost:8080/"
        },
        "id": "mpFa6mBE92OB",
        "outputId": "038a76b5-6fa6-4db4-e6bc-46f4817b0455"
      },
      "execution_count": 18,
      "outputs": [
        {
          "output_type": "stream",
          "name": "stdout",
          "text": [
            "set()\n"
          ]
        }
      ]
    },
    {
      "cell_type": "markdown",
      "source": [
        "18. Write a code to remove the element 4 from the set {1, 2, 3, 4}."
      ],
      "metadata": {
        "id": "cyzvw7lA-Buy"
      }
    },
    {
      "cell_type": "code",
      "source": [
        "my_set = {1, 2, 3, 4}\n",
        "my_set.remove(4)\n",
        "print(my_set)"
      ],
      "metadata": {
        "colab": {
          "base_uri": "https://localhost:8080/"
        },
        "id": "rbwUvIal-Ale",
        "outputId": "5129d3e2-9235-40ba-d403-1ff12606dfae"
      },
      "execution_count": 19,
      "outputs": [
        {
          "output_type": "stream",
          "name": "stdout",
          "text": [
            "{1, 2, 3}\n"
          ]
        }
      ]
    },
    {
      "cell_type": "markdown",
      "source": [
        "19. Write a code to find the union of two sets {1, 2, 3} and {3, 4, 5}."
      ],
      "metadata": {
        "id": "DERQxH5W-Hd-"
      }
    },
    {
      "cell_type": "code",
      "source": [
        "set1 = {1, 2, 3}\n",
        "set2 = {3, 4, 5}\n",
        "union_set = set1.union(set2)\n",
        "print(union_set)"
      ],
      "metadata": {
        "colab": {
          "base_uri": "https://localhost:8080/"
        },
        "id": "rjtiBz5D-GFx",
        "outputId": "5ff94d1b-2793-4b9f-e578-b27a44974d65"
      },
      "execution_count": 20,
      "outputs": [
        {
          "output_type": "stream",
          "name": "stdout",
          "text": [
            "{1, 2, 3, 4, 5}\n"
          ]
        }
      ]
    },
    {
      "cell_type": "markdown",
      "source": [
        "20. Write a code to find the intersection of two sets {1, 2, 3} and {2, 3, 4}."
      ],
      "metadata": {
        "id": "ptMpJ-3u-pw4"
      }
    },
    {
      "cell_type": "code",
      "source": [
        "set1 = {1, 2, 3}\n",
        "set2 = {2, 3, 4}\n",
        "intersection_set = set1.intersection(set2)\n",
        "print(intersection_set)"
      ],
      "metadata": {
        "colab": {
          "base_uri": "https://localhost:8080/"
        },
        "id": "vYsQUYua-u4U",
        "outputId": "4202e381-4cea-46d4-bae1-a93cf82bfe7e"
      },
      "execution_count": 22,
      "outputs": [
        {
          "output_type": "stream",
          "name": "stdout",
          "text": [
            "{2, 3}\n"
          ]
        }
      ]
    },
    {
      "cell_type": "markdown",
      "source": [
        "21. Write a code to create a dictionary with the keys \"name\", \"age\", and \"city\", and print it."
      ],
      "metadata": {
        "id": "Reg5CIJp-RI3"
      }
    },
    {
      "cell_type": "code",
      "source": [
        "my_dict = {\"name\": \"John\", \"age\": 30, \"city\": \"New York\"}\n",
        "print(my_dict)"
      ],
      "metadata": {
        "colab": {
          "base_uri": "https://localhost:8080/"
        },
        "id": "9eZz7ogk-PTh",
        "outputId": "3c5a5cbd-39fd-47bc-9859-459af6b5a4c3"
      },
      "execution_count": 21,
      "outputs": [
        {
          "output_type": "stream",
          "name": "stdout",
          "text": [
            "{'name': 'John', 'age': 30, 'city': 'New York'}\n"
          ]
        }
      ]
    },
    {
      "cell_type": "markdown",
      "source": [
        "22. Write a code to add a new key-value pair \"country\": \"USA\" to the dictionary {'name': 'John', 'age': 25}."
      ],
      "metadata": {
        "id": "CTfJdnVk-Y4h"
      }
    },
    {
      "cell_type": "code",
      "source": [
        "my_dict = {'name': 'John', 'age': 25}\n",
        "my_dict[\"country\"] = \"USA\"\n",
        "print(my_dict)"
      ],
      "metadata": {
        "colab": {
          "base_uri": "https://localhost:8080/"
        },
        "id": "esy5qZH2-VMJ",
        "outputId": "8f3dfff3-6e15-4309-f6d9-1e50e8b71fd4"
      },
      "execution_count": 23,
      "outputs": [
        {
          "output_type": "stream",
          "name": "stdout",
          "text": [
            "{'name': 'John', 'age': 25, 'country': 'USA'}\n"
          ]
        }
      ]
    },
    {
      "cell_type": "markdown",
      "source": [
        "23. Write a code to access the value associated with the key \"name\" in the dictionary {'name': 'Alice', 'age': 30}."
      ],
      "metadata": {
        "id": "sAxRzVOM_B21"
      }
    },
    {
      "cell_type": "code",
      "source": [
        "my_dict = {'name': 'Alice', 'age': 30}\n",
        "name = my_dict[\"name\"]\n",
        "print(name)"
      ],
      "metadata": {
        "colab": {
          "base_uri": "https://localhost:8080/"
        },
        "id": "kRGl0rp0--z1",
        "outputId": "d515d2e9-5983-470e-890d-7a3966c7e6ec"
      },
      "execution_count": 24,
      "outputs": [
        {
          "output_type": "stream",
          "name": "stdout",
          "text": [
            "Alice\n"
          ]
        }
      ]
    },
    {
      "cell_type": "markdown",
      "source": [
        "24. Write a code to remove the key \"age\" from the dictionary {'name': 'Bob', 'age': 22, 'city': 'New York'}."
      ],
      "metadata": {
        "id": "ldbsnZMm_GXm"
      }
    },
    {
      "cell_type": "code",
      "source": [
        "my_dict = {'name': 'Bob', 'age': 22, 'city': 'New York'}\n",
        "del my_dict[\"age\"]\n",
        "print(my_dict)"
      ],
      "metadata": {
        "colab": {
          "base_uri": "https://localhost:8080/"
        },
        "id": "0NVcBDGu_FCG",
        "outputId": "bec08c0c-25d6-46a4-b62d-bf4d06d02814"
      },
      "execution_count": 25,
      "outputs": [
        {
          "output_type": "stream",
          "name": "stdout",
          "text": [
            "{'name': 'Bob', 'city': 'New York'}\n"
          ]
        }
      ]
    },
    {
      "cell_type": "markdown",
      "source": [
        "25. Write a code to check if the key \"city\" exists in the dictionary {'name': 'Alice', 'city': 'Paris'}."
      ],
      "metadata": {
        "id": "RtvskGnx_MXC"
      }
    },
    {
      "cell_type": "code",
      "source": [
        "my_dict = {'name': 'Alice', 'city': 'Paris'}\n",
        "is_city_present = \"city\" in my_dict\n",
        "print(is_city_present)"
      ],
      "metadata": {
        "colab": {
          "base_uri": "https://localhost:8080/"
        },
        "id": "bh-C9WKW_LUU",
        "outputId": "b90ed771-d7c5-4001-e687-1ef5d782b47c"
      },
      "execution_count": 26,
      "outputs": [
        {
          "output_type": "stream",
          "name": "stdout",
          "text": [
            "True\n"
          ]
        }
      ]
    },
    {
      "cell_type": "markdown",
      "source": [
        "26. Write a code to create a list, a tuple, and a dictionary, and print them all."
      ],
      "metadata": {
        "id": "iwp_24oz_SUb"
      }
    },
    {
      "cell_type": "code",
      "source": [
        "my_list = [1, \"hello\", True]\n",
        "my_tuple = (3.14, False)\n",
        "my_dict = {\"key\": \"value\", 1: 10}\n",
        "print(my_list)\n",
        "print(my_tuple)\n",
        "print(my_dict)"
      ],
      "metadata": {
        "colab": {
          "base_uri": "https://localhost:8080/"
        },
        "id": "N9eh3qaQ_QZj",
        "outputId": "808a1f69-3fc0-4a5f-eb1a-5b4a21f596d2"
      },
      "execution_count": 27,
      "outputs": [
        {
          "output_type": "stream",
          "name": "stdout",
          "text": [
            "[1, 'hello', True]\n",
            "(3.14, False)\n",
            "{'key': 'value', 1: 10}\n"
          ]
        }
      ]
    },
    {
      "cell_type": "markdown",
      "source": [
        "27. Write a code to create a list of 5 random numbers between 1 and 100, sort it in ascending order, and print the result."
      ],
      "metadata": {
        "id": "wk8Y0MnR_a6E"
      }
    },
    {
      "cell_type": "code",
      "source": [
        "import random\n",
        "random_numbers = [random.randint(1, 100) for _ in range(5)]\n",
        "random_numbers.sort()\n",
        "print(random_numbers)"
      ],
      "metadata": {
        "colab": {
          "base_uri": "https://localhost:8080/"
        },
        "id": "wMWpYBGD_X9p",
        "outputId": "dc73dd07-d318-4056-9de5-c5e33f851cdc"
      },
      "execution_count": 30,
      "outputs": [
        {
          "output_type": "stream",
          "name": "stdout",
          "text": [
            "[50, 71, 74, 83, 90]\n"
          ]
        }
      ]
    },
    {
      "cell_type": "markdown",
      "source": [
        "28. Write a code to create a list with strings and print the element at the third index."
      ],
      "metadata": {
        "id": "Ix-G-qOQ_kEm"
      }
    },
    {
      "cell_type": "code",
      "source": [
        "string_list = [\"apple\", \"banana\", \"cherry\", \"date\", \"fig\"]\n",
        "third_element = string_list[2]\n",
        "print(third_element)"
      ],
      "metadata": {
        "colab": {
          "base_uri": "https://localhost:8080/"
        },
        "id": "zZ9Rs26M_ieO",
        "outputId": "08e7b023-47f0-4d39-8926-b06bf86cf1e8"
      },
      "execution_count": 29,
      "outputs": [
        {
          "output_type": "stream",
          "name": "stdout",
          "text": [
            "cherry\n"
          ]
        }
      ]
    },
    {
      "cell_type": "markdown",
      "source": [
        "29. Write a code to combine two dictionaries into one and print the result."
      ],
      "metadata": {
        "id": "TlU6o-XA_o7C"
      }
    },
    {
      "cell_type": "code",
      "source": [
        "dict1 = {\"a\": 1, \"b\": 2}\n",
        "dict2 = {\"c\": 3, \"d\": 4}\n",
        "combined_dict = dict1.copy()\n",
        "combined_dict.update(dict2)\n",
        "print(combined_dict)"
      ],
      "metadata": {
        "colab": {
          "base_uri": "https://localhost:8080/"
        },
        "id": "z3C_1ea5_oDH",
        "outputId": "f74b4465-316d-461e-a0da-2d24adfd8158"
      },
      "execution_count": 31,
      "outputs": [
        {
          "output_type": "stream",
          "name": "stdout",
          "text": [
            "{'a': 1, 'b': 2, 'c': 3, 'd': 4}\n"
          ]
        }
      ]
    },
    {
      "cell_type": "markdown",
      "source": [
        "30. Write a code to convert a list of strings into a set."
      ],
      "metadata": {
        "id": "pxceRr8W_8e_"
      }
    },
    {
      "cell_type": "code",
      "source": [
        "string_list = [\"red\", \"blue\", \"green\", \"red\", \"yellow\"]\n",
        "string_set = set(string_list)\n",
        "print(string_set)"
      ],
      "metadata": {
        "colab": {
          "base_uri": "https://localhost:8080/"
        },
        "id": "EQInEb1v_2AE",
        "outputId": "889905ce-d0f0-4200-9363-299d400b9a64"
      },
      "execution_count": 32,
      "outputs": [
        {
          "output_type": "stream",
          "name": "stdout",
          "text": [
            "{'green', 'red', 'yellow', 'blue'}\n"
          ]
        }
      ]
    }
  ]
}