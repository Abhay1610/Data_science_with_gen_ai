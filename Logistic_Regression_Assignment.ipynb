{
  "nbformat": 4,
  "nbformat_minor": 0,
  "metadata": {
    "colab": {
      "provenance": []
    },
    "kernelspec": {
      "name": "python3",
      "display_name": "Python 3"
    },
    "language_info": {
      "name": "python"
    }
  },
  "cells": [
    {
      "cell_type": "markdown",
      "source": [
        "# **Logistic Regression Assignment**"
      ],
      "metadata": {
        "id": "_XQrKZsW1iHG"
      }
    },
    {
      "cell_type": "markdown",
      "source": [
        "## Question 1: What is Logistic Regression, and how does it differ from Linear Regression?\n"
      ],
      "metadata": {
        "id": "F9U9ahX6tNfO"
      }
    },
    {
      "cell_type": "markdown",
      "source": [
        "Logistic Regression is a supervised machine learning algorithm used for classification problems. Unlike linear regression which predicts continuous values it predicts the probability that an input belongs to a specific class. It is used for binary classification where the output can be one of two possible categories such as Yes/No, True/False or 0/1. It uses sigmoid function to convert inputs into a probability value between 0 and 1."
      ],
      "metadata": {
        "id": "lzPcXpLStNiA"
      }
    },
    {
      "cell_type": "markdown",
      "source": [
        "## Question 2: Explain the role of the Sigmoid function in Logistic Regression."
      ],
      "metadata": {
        "id": "q_OW9hK_tNlG"
      }
    },
    {
      "cell_type": "markdown",
      "source": [
        "###**Understanding Sigmoid Function**\n",
        "1. The sigmoid function is a important part of logistic regression which is used to convert the raw output of the model into a probability value between 0 and 1.\n",
        "\n",
        "2. This function takes any real number and maps it into the range 0 to 1 forming an \"S\" shaped curve called the sigmoid curve or logistic curve. Because probabilities must lie between 0 and 1, the sigmoid function is perfect for this purpose.\n",
        "\n",
        "3. In logistic regression, we use a threshold value usually 0.5 to decide the class label.\n",
        "\n",
        "If the sigmoid output is same or above the threshold, the input is classified as Class 1.\n",
        "If it is below the threshold, the input is classified as Class 0.\n",
        "This approach helps to transform continuous input values into meaningful class predictions.\n"
      ],
      "metadata": {
        "id": "R208rNH1tNn7"
      }
    },
    {
      "cell_type": "markdown",
      "source": [
        "## Question 3: What is Regularization in Logistic Regression and why is it needed?"
      ],
      "metadata": {
        "id": "jsFCcmN8tNqE"
      }
    },
    {
      "cell_type": "markdown",
      "source": [
        "Regularization is an important technique in machine learning that helps to improve model accuracy by preventing overfitting which happens when a model learns the training data too well including noise and outliers and perform poor on new data. By adding a penalty for complexity it helps simpler models to perform better on new data.\n",
        "\n",
        "The various benefits of regularization are as follows:\n",
        "\n",
        "1. Prevents Overfitting: Regularization helps models focus on underlying patterns instead of memorizing noise in the training data.\n",
        "2. Improves Interpretability: L1 (Lasso) regularization simplifies models by reducing less important feature coefficients to zero.\n",
        "3. Enhances Performance: Prevents excessive weighting of outliers or irrelevant features helps in improving overall model accuracy."
      ],
      "metadata": {
        "id": "f92gXhQTtNsm"
      }
    },
    {
      "cell_type": "markdown",
      "source": [
        "## Question 4: What are some common evaluation metrics for classification models, and why are they important?"
      ],
      "metadata": {
        "id": "B-N4qvaXtNvc"
      }
    },
    {
      "cell_type": "markdown",
      "source": [
        "Classification is a supervised machine-learning technique that predicts the class label based on the input data. There are different classification algorithms to build a classification model, such as Stochastic Gradient Classifier, Support Vector Machine Classifier, Random Forest Classifier, etc. To choose the right model, it is important to gauge the performance of each classification algorithm.\n",
        "\n",
        "Understanding classification evaluation metrics is crucial for assessing the performance of machine learning models, especially in tasks like binary or multiclass classification. Some common metrics are:\n",
        "\n",
        "\n",
        "\n",
        "*  Accuracy\n",
        "*  Confusion Matrix\n",
        "*  Precision, Recall and F1 Score\n",
        "*  AUC-ROC Curve\n",
        "\n",
        "\n",
        "\n",
        "\n",
        "\n"
      ],
      "metadata": {
        "id": "S7W54S87tNyH"
      }
    },
    {
      "cell_type": "markdown",
      "source": [
        "### Question 5: Write a Python program that loads a CSV file into a Pandas DataFrame, splits into train/test sets, trains a Logistic Regression model, and prints its accuracy.(Use Dataset from sklearn package)"
      ],
      "metadata": {
        "id": "6gKKZfkjtN0y"
      }
    },
    {
      "cell_type": "code",
      "source": [
        "import pandas as pd\n",
        "from sklearn.model_selection import train_test_split\n",
        "from sklearn.linear_model import LogisticRegression\n",
        "from sklearn.metrics import accuracy_score\n",
        "from sklearn.datasets import load_iris\n",
        "\n",
        "data = load_iris()\n",
        "X = pd.DataFrame(data.data, columns = data.feature_names)\n",
        "y = data.target\n",
        "\n",
        "X_train, X_test, y_train, y_test = train_test_split(X, y, test_size = 0.3, random_state = 1)\n",
        "\n",
        "model = LogisticRegression(max_iter = 200)\n",
        "model.fit(X_train, y_train)\n",
        "\n",
        "y_pred = model.predict(X_test)\n",
        "\n",
        "accuracy = accuracy_score(y_test, y_pred)\n",
        "print(f\"Model Accuracy: {accuracy:.2f}\")"
      ],
      "metadata": {
        "colab": {
          "base_uri": "https://localhost:8080/"
        },
        "id": "8bWn0LXbzHHJ",
        "outputId": "a949a12c-4b4f-44c9-d68d-55934ba49fe8"
      },
      "execution_count": 1,
      "outputs": [
        {
          "output_type": "stream",
          "name": "stdout",
          "text": [
            "Model Accuracy: 0.98\n"
          ]
        }
      ]
    },
    {
      "cell_type": "markdown",
      "source": [
        "### Question 6: Write a Python program to train a Logistic Regression model using L2 regularization (Ridge) and print the model coefficients and accuracy.(Use Dataset from sklearn package)"
      ],
      "metadata": {
        "id": "hoELL6e6tN6h"
      }
    },
    {
      "cell_type": "code",
      "source": [
        "from sklearn.datasets import load_breast_cancer\n",
        "from sklearn.model_selection import train_test_split\n",
        "from sklearn.linear_model import LogisticRegression\n",
        "from sklearn.metrics import accuracy_score\n",
        "\n",
        "data = load_breast_cancer()\n",
        "X = data.data\n",
        "y = data.target\n",
        "\n",
        "X_train, X_test, y_train, y_test = train_test_split(X, y, test_size=0.3, random_state=1)\n",
        "\n",
        "model = LogisticRegression(penalty='l2', C=0.1, solver='liblinear', max_iter=1000)\n",
        "\n",
        "model.fit(X_train, y_train)\n",
        "\n",
        "print(\"Model Coefficients:\")\n",
        "print(model.coef_[0])\n",
        "\n",
        "y_pred = model.predict(X_test)\n",
        "accuracy = accuracy_score(y_test, y_pred)\n",
        "print(f\"\\nModel Accuracy: {accuracy:.4f}\")"
      ],
      "metadata": {
        "colab": {
          "base_uri": "https://localhost:8080/"
        },
        "id": "tKnwKJZgt61Q",
        "outputId": "5dbc6bf7-3929-4e50-a3e1-992dd8f832ca"
      },
      "execution_count": 2,
      "outputs": [
        {
          "output_type": "stream",
          "name": "stdout",
          "text": [
            "Model Coefficients:\n",
            "[ 0.50770704  0.10663658  0.37305199 -0.01773295 -0.01376922 -0.08048916\n",
            " -0.11403382 -0.04816543 -0.02442704 -0.00240325  0.02482266  0.12836137\n",
            "  0.0194768  -0.04815176 -0.00167733 -0.01710842 -0.02647023 -0.00729868\n",
            " -0.00423199 -0.00127577  0.57300044 -0.20903336 -0.23212739 -0.01220784\n",
            " -0.02615327 -0.24438662 -0.31372616 -0.09772481 -0.05715664 -0.01799687]\n",
            "\n",
            "Model Accuracy: 0.9415\n"
          ]
        }
      ]
    },
    {
      "cell_type": "markdown",
      "source": [
        "### Question 7: Write a Python program to train a Logistic Regression model for multiclass classification using multi_class='ovr' and print the classification report. (Use Dataset from sklearn package)\n"
      ],
      "metadata": {
        "id": "6Zjjirz6tN88"
      }
    },
    {
      "cell_type": "code",
      "source": [
        "from sklearn.datasets import load_iris\n",
        "from sklearn.model_selection import train_test_split\n",
        "from sklearn.linear_model import LogisticRegression\n",
        "from sklearn.metrics import classification_report\n",
        "\n",
        "data = load_iris()\n",
        "X, y = data.data, data.target\n",
        "\n",
        "X_train, X_test, y_train, y_test = train_test_split(X, y, test_size=0.3, random_state=1)\n",
        "\n",
        "model = LogisticRegression(multi_class='ovr', solver='liblinear',random_state=42)\n",
        "\n",
        "model.fit(X_train, y_train)\n",
        "\n",
        "y_pred = model.predict(X_test)\n",
        "\n",
        "print(\"Classification Report:\")\n",
        "print(classification_report(y_test, y_pred, target_names=data.target_names))"
      ],
      "metadata": {
        "colab": {
          "base_uri": "https://localhost:8080/"
        },
        "id": "FowRlldBv0bq",
        "outputId": "d9d48c9b-39eb-4cbe-cc3a-208c9389958f"
      },
      "execution_count": 3,
      "outputs": [
        {
          "output_type": "stream",
          "name": "stdout",
          "text": [
            "Classification Report:\n",
            "              precision    recall  f1-score   support\n",
            "\n",
            "      setosa       1.00      1.00      1.00        14\n",
            "  versicolor       1.00      0.72      0.84        18\n",
            "   virginica       0.72      1.00      0.84        13\n",
            "\n",
            "    accuracy                           0.89        45\n",
            "   macro avg       0.91      0.91      0.89        45\n",
            "weighted avg       0.92      0.89      0.89        45\n",
            "\n"
          ]
        },
        {
          "output_type": "stream",
          "name": "stderr",
          "text": [
            "/usr/local/lib/python3.11/dist-packages/sklearn/linear_model/_logistic.py:1256: FutureWarning: 'multi_class' was deprecated in version 1.5 and will be removed in 1.7. Use OneVsRestClassifier(LogisticRegression(..)) instead. Leave it to its default value to avoid this warning.\n",
            "  warnings.warn(\n"
          ]
        }
      ]
    },
    {
      "cell_type": "markdown",
      "source": [
        "### Question 8: Write a Python program to apply GridSearchCV to tune C and penalty hyperparameters for Logistic Regression and print the best parameters and validation accuracy.\n"
      ],
      "metadata": {
        "id": "OUWjB4EitN_2"
      }
    },
    {
      "cell_type": "code",
      "source": [
        "from sklearn.datasets import load_breast_cancer\n",
        "from sklearn.linear_model import LogisticRegression\n",
        "from sklearn.model_selection import GridSearchCV, train_test_split\n",
        "\n",
        "data = load_breast_cancer()\n",
        "X,y = data.data, data.target\n",
        "\n",
        "X_train, X_test, y_train, y_test = train_test_split(X, y, test_size=0.2, random_state=42)\n",
        "\n",
        "param_grid = {\n",
        "    'C':[0.001, 0.01, 0.1, 1, 10, 100],\n",
        "    'penalty':['l1','l2']\n",
        "}\n",
        "\n",
        "logistic_model = LogisticRegression(solver='liblinear', max_iter=1000)\n",
        "\n",
        "grid_search = GridSearchCV(logistic_model, param_grid, cv=5, scoring='accuracy')\n",
        "\n",
        "grid_search.fit(X_train, y_train)\n",
        "\n",
        "print(\"Best Parameters:\", grid_search.best_params_)\n",
        "\n",
        "print(\"Best Validation Accuracy:\", grid_search.best_score_)\n",
        "\n",
        "#Evaluate the best model on the test set(optional, but good practice)\n",
        "test_accuracy = grid_search.score(X_test, y_test)\n",
        "print(\"Test Accuracy with Best Model:\", test_accuracy)"
      ],
      "metadata": {
        "colab": {
          "base_uri": "https://localhost:8080/"
        },
        "id": "R81K9cOEw0cL",
        "outputId": "858b8c70-8c4f-46de-8a69-1e11cf9217ab"
      },
      "execution_count": 4,
      "outputs": [
        {
          "output_type": "stream",
          "name": "stdout",
          "text": [
            "Best Parameters: {'C': 100, 'penalty': 'l1'}\n",
            "Best Validation Accuracy: 0.9670329670329672\n",
            "Test Accuracy with Best Model: 0.9824561403508771\n"
          ]
        }
      ]
    },
    {
      "cell_type": "markdown",
      "source": [
        "### Question 9: Write a Python program to standardize the features before training Logistic Regression and compare the model's accuracy with and without scaling.\n"
      ],
      "metadata": {
        "id": "KYCwv5jCtOCn"
      }
    },
    {
      "cell_type": "code",
      "source": [
        "from sklearn.datasets import load_breast_cancer\n",
        "from sklearn.model_selection import train_test_split\n",
        "from sklearn.preprocessing import StandardScaler\n",
        "from sklearn.linear_model import LogisticRegression\n",
        "from sklearn.metrics import accuracy_score\n",
        "\n",
        "data = load_breast_cancer()\n",
        "X = data.data\n",
        "y = data.target\n",
        "\n",
        "X_train, X_test, y_train, y_test = train_test_split(X, y, test_size = 0.3, random_state = 42)\n",
        "\n",
        "print(\"--- Model without scaling ---\")\n",
        "logistic_regression_unscaled = LogisticRegression(max_iter=5000, random_state=42)\n",
        "logistic_regression_unscaled.fit(X_train, y_train)\n",
        "y_pred_unscaled = logistic_regression_unscaled.predict(X_test)\n",
        "accuracy_unscaled = accuracy_score(y_test, y_pred_unscaled)\n",
        "print(f\"Accuracy without scaling: {accuracy_unscaled:.4f}\")\n",
        "\n",
        "print(\"\\n--- Model with scaling ---\")\n",
        "scaler = StandardScaler()\n",
        "X_train_scaled = scaler.fit_transform(X_train)\n",
        "X_test_scaled = scaler.transform(X_test)\n",
        "\n",
        "logistic_regression_scaled = LogisticRegression(max_iter=1000, random_state=42)\n",
        "logistic_regression_scaled.fit(X_train_scaled, y_train)\n",
        "y_pred_scaled = logistic_regression_scaled.predict(X_test_scaled)\n",
        "accuracy_scaled = accuracy_score(y_test, y_pred_scaled)\n",
        "print(f\"Accuracy with scaling: {accuracy_scaled:.4f}\")\n",
        "\n",
        "print(f\"\\nAccuracy difference (scaled - unscaled): {accuracy_scaled - accuracy_unscaled:.4f}\")"
      ],
      "metadata": {
        "colab": {
          "base_uri": "https://localhost:8080/"
        },
        "id": "ZJ6HcnRxyMOl",
        "outputId": "39674378-e5e3-44e5-e72c-efcd63cd5fa2"
      },
      "execution_count": 5,
      "outputs": [
        {
          "output_type": "stream",
          "name": "stdout",
          "text": [
            "--- Model without scaling ---\n",
            "Accuracy without scaling: 0.9766\n",
            "\n",
            "--- Model with scaling ---\n",
            "Accuracy with scaling: 0.9825\n",
            "\n",
            "Accuracy difference (scaled - unscaled): 0.0058\n"
          ]
        }
      ]
    },
    {
      "cell_type": "markdown",
      "source": [
        "### Question 10: Imagine you are working at an e-commerce company that wants to predict which customers will respond to a marketing campaign. Given an imbalanced dataset (only 5% of customers respond), describe the approach you’d take to build a Logistic Regression model — including data handling, feature scaling, balancing classes, hyperparameter tuning, and evaluating the model for this real-world business use case.\n"
      ],
      "metadata": {
        "id": "_O7a_iAUtOFT"
      }
    },
    {
      "cell_type": "markdown",
      "source": [
        "**Techniques to Handle Imbalanced Data Set Problem**\n",
        "\n",
        "In rare cases like fraud detection or disease prediction, it is vital to identify the minority classes correctly. So, the model should not be biased to detect only the majority class but should give equal weight or importance to the minority class, too. Here, I discuss some techniques to handle imbalanced dataset problem. There is no correct or wrong method; different techniques work well with other problems.\n",
        "\n",
        "\n",
        "\n",
        "\n",
        "1. Data Prep & Scaling\n",
        "\n",
        " a) Handle missing values, encode categoricals (one-hot), and scale numericals with StandardScaler (Logistic Regression is sensitive to feature scale).\n",
        "\n",
        "2. Handle Imbalance\n",
        "\n",
        " a) Use SMOTE (on training set only) to oversample the 5% responder class.\n",
        "\n",
        " b) Try class_weight='balanced' as an alternative.\n",
        "\n",
        "3. Model Building\n",
        "\n",
        " a) Create a pipeline: Scaling → SMOTE → Logistic Regression.\n",
        "\n",
        " b) Tune hyperparameters (C, penalty, solver, class_weight) via GridSearchCV with stratified folds.\n",
        "\n",
        "4. Threshold Optimization\n",
        "\n",
        " a) Get probabilities (predict_proba) and choose optimal threshold using Precision-Recall curve to maximize recall without killing precision.\n",
        "\n",
        "5. Evaluation\n",
        "\n",
        " a) Use F1-score (primary), ROC-AUC, and PR-AUC—not accuracy.\n",
        "\n",
        " b) From a business view, check ROI of predicted responders.\n",
        "\n"
      ],
      "metadata": {
        "id": "bSTkly_0tOIt"
      }
    }
  ]
}